{
 "cells": [
  {
   "cell_type": "code",
   "execution_count": 1,
   "id": "9bb79bfb",
   "metadata": {},
   "outputs": [],
   "source": [
    "import pandas as pd \n",
    "import numpy as np"
   ]
  },
  {
   "cell_type": "code",
   "execution_count": 2,
   "id": "26e63c7a",
   "metadata": {},
   "outputs": [
    {
     "name": "stderr",
     "output_type": "stream",
     "text": [
      "C:\\SOHEL\\lib\\site-packages\\cupy\\_environment.py:213: UserWarning: CUDA path could not be detected. Set CUDA_PATH environment variable if CuPy fails to load.\n",
      "  warnings.warn(\n",
      "C:\\SOHEL\\lib\\site-packages\\cupy\\_environment.py:213: UserWarning: CUDA path could not be detected. Set CUDA_PATH environment variable if CuPy fails to load.\n",
      "  warnings.warn(\n"
     ]
    }
   ],
   "source": [
    "import spacy\n",
    "from spacy.lang.en.stop_words import STOP_WORDS"
   ]
  },
  {
   "cell_type": "code",
   "execution_count": 3,
   "id": "8841f94d",
   "metadata": {},
   "outputs": [],
   "source": [
    "df=pd.read_csv('HSp_Data.csv', encoding= 'latin1', header = None)"
   ]
  },
  {
   "cell_type": "code",
   "execution_count": 4,
   "id": "cee3e869",
   "metadata": {},
   "outputs": [
    {
     "data": {
      "text/html": [
       "<div>\n",
       "<style scoped>\n",
       "    .dataframe tbody tr th:only-of-type {\n",
       "        vertical-align: middle;\n",
       "    }\n",
       "\n",
       "    .dataframe tbody tr th {\n",
       "        vertical-align: top;\n",
       "    }\n",
       "\n",
       "    .dataframe thead th {\n",
       "        text-align: right;\n",
       "    }\n",
       "</style>\n",
       "<table border=\"1\" class=\"dataframe\">\n",
       "  <thead>\n",
       "    <tr style=\"text-align: right;\">\n",
       "      <th></th>\n",
       "      <th>0</th>\n",
       "      <th>1</th>\n",
       "      <th>2</th>\n",
       "      <th>3</th>\n",
       "      <th>4</th>\n",
       "      <th>5</th>\n",
       "      <th>6</th>\n",
       "    </tr>\n",
       "  </thead>\n",
       "  <tbody>\n",
       "    <tr>\n",
       "      <th>0</th>\n",
       "      <td>NaN</td>\n",
       "      <td>count</td>\n",
       "      <td>hate_speech</td>\n",
       "      <td>offensive_language</td>\n",
       "      <td>neither</td>\n",
       "      <td>class</td>\n",
       "      <td>tweet</td>\n",
       "    </tr>\n",
       "    <tr>\n",
       "      <th>1</th>\n",
       "      <td>0.0</td>\n",
       "      <td>3</td>\n",
       "      <td>0</td>\n",
       "      <td>0</td>\n",
       "      <td>3</td>\n",
       "      <td>2</td>\n",
       "      <td>!!! RT @mayasolovely: As a woman you shouldn't...</td>\n",
       "    </tr>\n",
       "    <tr>\n",
       "      <th>2</th>\n",
       "      <td>1.0</td>\n",
       "      <td>3</td>\n",
       "      <td>0</td>\n",
       "      <td>3</td>\n",
       "      <td>0</td>\n",
       "      <td>1</td>\n",
       "      <td>!!!!! RT @mleew17: boy dats cold...tyga dwn ba...</td>\n",
       "    </tr>\n",
       "    <tr>\n",
       "      <th>3</th>\n",
       "      <td>2.0</td>\n",
       "      <td>3</td>\n",
       "      <td>0</td>\n",
       "      <td>3</td>\n",
       "      <td>0</td>\n",
       "      <td>1</td>\n",
       "      <td>!!!!!!! RT @UrKindOfBrand Dawg!!!! RT @80sbaby...</td>\n",
       "    </tr>\n",
       "    <tr>\n",
       "      <th>4</th>\n",
       "      <td>3.0</td>\n",
       "      <td>3</td>\n",
       "      <td>0</td>\n",
       "      <td>2</td>\n",
       "      <td>1</td>\n",
       "      <td>1</td>\n",
       "      <td>!!!!!!!!! RT @C_G_Anderson: @viva_based she lo...</td>\n",
       "    </tr>\n",
       "  </tbody>\n",
       "</table>\n",
       "</div>"
      ],
      "text/plain": [
       "     0      1            2                   3        4      5  \\\n",
       "0  NaN  count  hate_speech  offensive_language  neither  class   \n",
       "1  0.0      3            0                   0        3      2   \n",
       "2  1.0      3            0                   3        0      1   \n",
       "3  2.0      3            0                   3        0      1   \n",
       "4  3.0      3            0                   2        1      1   \n",
       "\n",
       "                                                   6  \n",
       "0                                              tweet  \n",
       "1  !!! RT @mayasolovely: As a woman you shouldn't...  \n",
       "2  !!!!! RT @mleew17: boy dats cold...tyga dwn ba...  \n",
       "3  !!!!!!! RT @UrKindOfBrand Dawg!!!! RT @80sbaby...  \n",
       "4  !!!!!!!!! RT @C_G_Anderson: @viva_based she lo...  "
      ]
     },
     "execution_count": 4,
     "metadata": {},
     "output_type": "execute_result"
    }
   ],
   "source": [
    "df.head()"
   ]
  },
  {
   "cell_type": "code",
   "execution_count": 5,
   "id": "6a5649e6",
   "metadata": {},
   "outputs": [],
   "source": [
    "df=df[[6,5]]"
   ]
  },
  {
   "cell_type": "code",
   "execution_count": 6,
   "id": "c9620d65",
   "metadata": {},
   "outputs": [
    {
     "data": {
      "text/html": [
       "<div>\n",
       "<style scoped>\n",
       "    .dataframe tbody tr th:only-of-type {\n",
       "        vertical-align: middle;\n",
       "    }\n",
       "\n",
       "    .dataframe tbody tr th {\n",
       "        vertical-align: top;\n",
       "    }\n",
       "\n",
       "    .dataframe thead th {\n",
       "        text-align: right;\n",
       "    }\n",
       "</style>\n",
       "<table border=\"1\" class=\"dataframe\">\n",
       "  <thead>\n",
       "    <tr style=\"text-align: right;\">\n",
       "      <th></th>\n",
       "      <th>twitts</th>\n",
       "      <th>class</th>\n",
       "    </tr>\n",
       "  </thead>\n",
       "  <tbody>\n",
       "    <tr>\n",
       "      <th>0</th>\n",
       "      <td>tweet</td>\n",
       "      <td>class</td>\n",
       "    </tr>\n",
       "    <tr>\n",
       "      <th>1</th>\n",
       "      <td>!!! RT @mayasolovely: As a woman you shouldn't...</td>\n",
       "      <td>2</td>\n",
       "    </tr>\n",
       "    <tr>\n",
       "      <th>2</th>\n",
       "      <td>!!!!! RT @mleew17: boy dats cold...tyga dwn ba...</td>\n",
       "      <td>1</td>\n",
       "    </tr>\n",
       "    <tr>\n",
       "      <th>3</th>\n",
       "      <td>!!!!!!! RT @UrKindOfBrand Dawg!!!! RT @80sbaby...</td>\n",
       "      <td>1</td>\n",
       "    </tr>\n",
       "    <tr>\n",
       "      <th>4</th>\n",
       "      <td>!!!!!!!!! RT @C_G_Anderson: @viva_based she lo...</td>\n",
       "      <td>1</td>\n",
       "    </tr>\n",
       "  </tbody>\n",
       "</table>\n",
       "</div>"
      ],
      "text/plain": [
       "                                              twitts  class\n",
       "0                                              tweet  class\n",
       "1  !!! RT @mayasolovely: As a woman you shouldn't...      2\n",
       "2  !!!!! RT @mleew17: boy dats cold...tyga dwn ba...      1\n",
       "3  !!!!!!! RT @UrKindOfBrand Dawg!!!! RT @80sbaby...      1\n",
       "4  !!!!!!!!! RT @C_G_Anderson: @viva_based she lo...      1"
      ]
     },
     "execution_count": 6,
     "metadata": {},
     "output_type": "execute_result"
    }
   ],
   "source": [
    "df.columns=['twitts','class']\n",
    "df.head()"
   ]
  },
  {
   "cell_type": "code",
   "execution_count": 7,
   "id": "104a1625",
   "metadata": {},
   "outputs": [
    {
     "data": {
      "text/plain": [
       "1        19190\n",
       "2         4163\n",
       "0         1430\n",
       "class        1\n",
       "Name: class, dtype: int64"
      ]
     },
     "execution_count": 7,
     "metadata": {},
     "output_type": "execute_result"
    }
   ],
   "source": [
    "df['class'].value_counts()"
   ]
  },
  {
   "cell_type": "code",
   "execution_count": 8,
   "id": "df05f75a",
   "metadata": {},
   "outputs": [],
   "source": [
    "sent_map={0:'Hate speech',1:'Offencive language',2:'Not Hate and Offencive'}"
   ]
  },
  {
   "cell_type": "code",
   "execution_count": 9,
   "id": "719b25d0",
   "metadata": {},
   "outputs": [],
   "source": [
    "###Words Count"
   ]
  },
  {
   "cell_type": "code",
   "execution_count": 10,
   "id": "d681040c",
   "metadata": {},
   "outputs": [],
   "source": [
    "df['Words_Count']=df['twitts'].apply(lambda x: len(str(x).split()))"
   ]
  },
  {
   "cell_type": "code",
   "execution_count": 11,
   "id": "1f98b6a9",
   "metadata": {},
   "outputs": [
    {
     "data": {
      "text/html": [
       "<div>\n",
       "<style scoped>\n",
       "    .dataframe tbody tr th:only-of-type {\n",
       "        vertical-align: middle;\n",
       "    }\n",
       "\n",
       "    .dataframe tbody tr th {\n",
       "        vertical-align: top;\n",
       "    }\n",
       "\n",
       "    .dataframe thead th {\n",
       "        text-align: right;\n",
       "    }\n",
       "</style>\n",
       "<table border=\"1\" class=\"dataframe\">\n",
       "  <thead>\n",
       "    <tr style=\"text-align: right;\">\n",
       "      <th></th>\n",
       "      <th>twitts</th>\n",
       "      <th>class</th>\n",
       "      <th>Words_Count</th>\n",
       "    </tr>\n",
       "  </thead>\n",
       "  <tbody>\n",
       "    <tr>\n",
       "      <th>0</th>\n",
       "      <td>tweet</td>\n",
       "      <td>class</td>\n",
       "      <td>1</td>\n",
       "    </tr>\n",
       "    <tr>\n",
       "      <th>1</th>\n",
       "      <td>!!! RT @mayasolovely: As a woman you shouldn't...</td>\n",
       "      <td>2</td>\n",
       "      <td>25</td>\n",
       "    </tr>\n",
       "    <tr>\n",
       "      <th>2</th>\n",
       "      <td>!!!!! RT @mleew17: boy dats cold...tyga dwn ba...</td>\n",
       "      <td>1</td>\n",
       "      <td>16</td>\n",
       "    </tr>\n",
       "    <tr>\n",
       "      <th>3</th>\n",
       "      <td>!!!!!!! RT @UrKindOfBrand Dawg!!!! RT @80sbaby...</td>\n",
       "      <td>1</td>\n",
       "      <td>21</td>\n",
       "    </tr>\n",
       "    <tr>\n",
       "      <th>4</th>\n",
       "      <td>!!!!!!!!! RT @C_G_Anderson: @viva_based she lo...</td>\n",
       "      <td>1</td>\n",
       "      <td>9</td>\n",
       "    </tr>\n",
       "  </tbody>\n",
       "</table>\n",
       "</div>"
      ],
      "text/plain": [
       "                                              twitts  class  Words_Count\n",
       "0                                              tweet  class            1\n",
       "1  !!! RT @mayasolovely: As a woman you shouldn't...      2           25\n",
       "2  !!!!! RT @mleew17: boy dats cold...tyga dwn ba...      1           16\n",
       "3  !!!!!!! RT @UrKindOfBrand Dawg!!!! RT @80sbaby...      1           21\n",
       "4  !!!!!!!!! RT @C_G_Anderson: @viva_based she lo...      1            9"
      ]
     },
     "execution_count": 11,
     "metadata": {},
     "output_type": "execute_result"
    }
   ],
   "source": [
    "df.head()"
   ]
  },
  {
   "cell_type": "code",
   "execution_count": 12,
   "id": "fcf902da",
   "metadata": {},
   "outputs": [],
   "source": [
    "###Character count"
   ]
  },
  {
   "cell_type": "code",
   "execution_count": 13,
   "id": "6fd5200a",
   "metadata": {},
   "outputs": [],
   "source": [
    "df['Chars_Count']=df['twitts'].apply(lambda x: len(x))"
   ]
  },
  {
   "cell_type": "code",
   "execution_count": 14,
   "id": "3ff3e34d",
   "metadata": {},
   "outputs": [
    {
     "data": {
      "text/html": [
       "<div>\n",
       "<style scoped>\n",
       "    .dataframe tbody tr th:only-of-type {\n",
       "        vertical-align: middle;\n",
       "    }\n",
       "\n",
       "    .dataframe tbody tr th {\n",
       "        vertical-align: top;\n",
       "    }\n",
       "\n",
       "    .dataframe thead th {\n",
       "        text-align: right;\n",
       "    }\n",
       "</style>\n",
       "<table border=\"1\" class=\"dataframe\">\n",
       "  <thead>\n",
       "    <tr style=\"text-align: right;\">\n",
       "      <th></th>\n",
       "      <th>twitts</th>\n",
       "      <th>class</th>\n",
       "      <th>Words_Count</th>\n",
       "      <th>Chars_Count</th>\n",
       "    </tr>\n",
       "  </thead>\n",
       "  <tbody>\n",
       "    <tr>\n",
       "      <th>0</th>\n",
       "      <td>tweet</td>\n",
       "      <td>class</td>\n",
       "      <td>1</td>\n",
       "      <td>5</td>\n",
       "    </tr>\n",
       "    <tr>\n",
       "      <th>1</th>\n",
       "      <td>!!! RT @mayasolovely: As a woman you shouldn't...</td>\n",
       "      <td>2</td>\n",
       "      <td>25</td>\n",
       "      <td>140</td>\n",
       "    </tr>\n",
       "    <tr>\n",
       "      <th>2</th>\n",
       "      <td>!!!!! RT @mleew17: boy dats cold...tyga dwn ba...</td>\n",
       "      <td>1</td>\n",
       "      <td>16</td>\n",
       "      <td>85</td>\n",
       "    </tr>\n",
       "    <tr>\n",
       "      <th>3</th>\n",
       "      <td>!!!!!!! RT @UrKindOfBrand Dawg!!!! RT @80sbaby...</td>\n",
       "      <td>1</td>\n",
       "      <td>21</td>\n",
       "      <td>120</td>\n",
       "    </tr>\n",
       "    <tr>\n",
       "      <th>4</th>\n",
       "      <td>!!!!!!!!! RT @C_G_Anderson: @viva_based she lo...</td>\n",
       "      <td>1</td>\n",
       "      <td>9</td>\n",
       "      <td>62</td>\n",
       "    </tr>\n",
       "  </tbody>\n",
       "</table>\n",
       "</div>"
      ],
      "text/plain": [
       "                                              twitts  class  Words_Count  \\\n",
       "0                                              tweet  class            1   \n",
       "1  !!! RT @mayasolovely: As a woman you shouldn't...      2           25   \n",
       "2  !!!!! RT @mleew17: boy dats cold...tyga dwn ba...      1           16   \n",
       "3  !!!!!!! RT @UrKindOfBrand Dawg!!!! RT @80sbaby...      1           21   \n",
       "4  !!!!!!!!! RT @C_G_Anderson: @viva_based she lo...      1            9   \n",
       "\n",
       "   Chars_Count  \n",
       "0            5  \n",
       "1          140  \n",
       "2           85  \n",
       "3          120  \n",
       "4           62  "
      ]
     },
     "execution_count": 14,
     "metadata": {},
     "output_type": "execute_result"
    }
   ],
   "source": [
    "df.head()"
   ]
  },
  {
   "cell_type": "code",
   "execution_count": 15,
   "id": "eaba6f3e",
   "metadata": {},
   "outputs": [],
   "source": [
    "###Stop Words count"
   ]
  },
  {
   "cell_type": "code",
   "execution_count": 16,
   "id": "eadd32c5",
   "metadata": {},
   "outputs": [
    {
     "name": "stdout",
     "output_type": "stream",
     "text": [
      "{'either', 'any', 'hundred', 'over', 'behind', 'of', 'can', 'many', 'some', 'for', 'often', 'becomes', 'everywhere', 'nowhere', 'else', '’re', 'together', 'give', 'towards', 'us', 'somewhere', 'amount', 'own', 'himself', 'against', 'beforehand', 'thereafter', 'here', 'n‘t', 'must', 'meanwhile', 'their', 'our', 'you', 'eight', 'full', 'anywhere', 'twelve', 'does', 'noone', 'front', 'through', 'did', 'when', 'further', 'whether', 'well', 'six', 'seem', 'could', 'up', 'thru', 'before', '‘m', 'get', 'him', 'few', 'although', 'thereupon', 'it', 'becoming', 'whom', 'thence', 'not', 'there', '‘re', 'into', 'besides', 'very', 'hereupon', 'back', 'she', '’ve', 'an', 'may', 'other', 'name', 'afterwards', 'might', '‘ve', 'elsewhere', 'seems', 'are', 'be', 'already', 'nine', \"'m\", 'yourselves', 'became', 'sometime', 'same', 'enough', 'really', 'around', 'due', 'hereby', 'whoever', 'the', 'formerly', 'again', 'regarding', 'ever', 'just', 'much', 'empty', 'your', 'across', 'why', \"'d\", 'last', 'do', 'ca', 'bottom', 'moreover', 'someone', 'fifty', 'he', 'indeed', 'i', 'several', 'beside', 'throughout', 'via', 'down', 'a', 'toward', 'forty', 'only', 'beyond', 'than', 'sixty', 'was', 'out', 'without', 'from', 'twenty', 'another', 'with', 'become', 'done', 'among', 'five', 'though', 'hereafter', 'except', 'mostly', \"'ll\", 'me', 'hers', 'while', 'most', 'side', 'quite', 'but', 'put', 'whatever', 'something', 'every', 'each', 'between', 'themselves', 'still', 'we', 'on', 'top', 'whole', 'along', 'therein', 'after', 'please', 'one', 'nobody', 'various', 'wherein', 'more', 'where', 'because', '’m', 'part', 'make', 'call', 'such', 'two', 'cannot', 'that', 'during', 'otherwise', 'namely', 'latterly', 'say', 'yet', 'show', 'keep', '‘d', \"'re\", 'using', 'nor', 'whereas', 'then', 'see', 'these', 'too', 'onto', 'used', 'take', 'therefore', 'go', 'latter', '’s', 'first', 'as', 'her', 'under', 'what', 'been', 'thereby', 'if', 'ten', 'no', 'n’t', 're', 'whenever', '’ll', 'doing', 'nothing', 'my', 'how', 'everyone', 'less', 'serious', 'four', 'so', 'almost', 'in', 'were', '‘s', 'whereupon', 'ours', 'none', 'alone', 'am', \"'s\", 'everything', 'or', 'yourself', \"n't\", 'seemed', 'at', 'former', 'and', 'even', 'all', 'herself', 'by', 'hence', 'yours', '’d', 'least', 'since', 'thus', 'who', 'anyway', 'whence', 'seeming', 'three', 'never', 'within', 'has', 'move', 'had', 'next', 'anyhow', 'off', 'being', 'mine', 'below', 'fifteen', 'herein', 'somehow', 'should', 'whereby', 'anything', 'which', 'those', 'myself', 'both', 'sometimes', 'eleven', 'whose', 'nevertheless', 'made', 'now', 'always', 'itself', 'third', 'whereafter', 'have', 'its', 'per', 'to', 'rather', 'is', 'until', '‘ll', 'whither', 'perhaps', 'unless', 'about', 'ourselves', 'once', 'they', 'amongst', 'anyone', 'however', \"'ve\", 'others', 'upon', 'above', 'his', 'this', 'them', 'would', 'neither', 'will', 'also', 'wherever'}\n"
     ]
    }
   ],
   "source": [
    "print(STOP_WORDS)"
   ]
  },
  {
   "cell_type": "code",
   "execution_count": 17,
   "id": "a273fc2a",
   "metadata": {},
   "outputs": [
    {
     "name": "stdout",
     "output_type": "stream",
     "text": [
      "326\n"
     ]
    }
   ],
   "source": [
    "print(len(STOP_WORDS))"
   ]
  },
  {
   "cell_type": "code",
   "execution_count": 18,
   "id": "9265e395",
   "metadata": {},
   "outputs": [],
   "source": [
    "df['stop_words-len']=df['twitts'].apply(lambda x:len([t for t in x.split()if t in STOP_WORDS]))"
   ]
  },
  {
   "cell_type": "code",
   "execution_count": 19,
   "id": "9da9d090",
   "metadata": {},
   "outputs": [
    {
     "data": {
      "text/html": [
       "<div>\n",
       "<style scoped>\n",
       "    .dataframe tbody tr th:only-of-type {\n",
       "        vertical-align: middle;\n",
       "    }\n",
       "\n",
       "    .dataframe tbody tr th {\n",
       "        vertical-align: top;\n",
       "    }\n",
       "\n",
       "    .dataframe thead th {\n",
       "        text-align: right;\n",
       "    }\n",
       "</style>\n",
       "<table border=\"1\" class=\"dataframe\">\n",
       "  <thead>\n",
       "    <tr style=\"text-align: right;\">\n",
       "      <th></th>\n",
       "      <th>twitts</th>\n",
       "      <th>class</th>\n",
       "      <th>Words_Count</th>\n",
       "      <th>Chars_Count</th>\n",
       "      <th>stop_words-len</th>\n",
       "    </tr>\n",
       "  </thead>\n",
       "  <tbody>\n",
       "    <tr>\n",
       "      <th>0</th>\n",
       "      <td>tweet</td>\n",
       "      <td>class</td>\n",
       "      <td>1</td>\n",
       "      <td>5</td>\n",
       "      <td>0</td>\n",
       "    </tr>\n",
       "    <tr>\n",
       "      <th>1</th>\n",
       "      <td>!!! RT @mayasolovely: As a woman you shouldn't...</td>\n",
       "      <td>2</td>\n",
       "      <td>25</td>\n",
       "      <td>140</td>\n",
       "      <td>12</td>\n",
       "    </tr>\n",
       "    <tr>\n",
       "      <th>2</th>\n",
       "      <td>!!!!! RT @mleew17: boy dats cold...tyga dwn ba...</td>\n",
       "      <td>1</td>\n",
       "      <td>16</td>\n",
       "      <td>85</td>\n",
       "      <td>3</td>\n",
       "    </tr>\n",
       "    <tr>\n",
       "      <th>3</th>\n",
       "      <td>!!!!!!! RT @UrKindOfBrand Dawg!!!! RT @80sbaby...</td>\n",
       "      <td>1</td>\n",
       "      <td>21</td>\n",
       "      <td>120</td>\n",
       "      <td>7</td>\n",
       "    </tr>\n",
       "    <tr>\n",
       "      <th>4</th>\n",
       "      <td>!!!!!!!!! RT @C_G_Anderson: @viva_based she lo...</td>\n",
       "      <td>1</td>\n",
       "      <td>9</td>\n",
       "      <td>62</td>\n",
       "      <td>2</td>\n",
       "    </tr>\n",
       "  </tbody>\n",
       "</table>\n",
       "</div>"
      ],
      "text/plain": [
       "                                              twitts  class  Words_Count  \\\n",
       "0                                              tweet  class            1   \n",
       "1  !!! RT @mayasolovely: As a woman you shouldn't...      2           25   \n",
       "2  !!!!! RT @mleew17: boy dats cold...tyga dwn ba...      1           16   \n",
       "3  !!!!!!! RT @UrKindOfBrand Dawg!!!! RT @80sbaby...      1           21   \n",
       "4  !!!!!!!!! RT @C_G_Anderson: @viva_based she lo...      1            9   \n",
       "\n",
       "   Chars_Count  stop_words-len  \n",
       "0            5               0  \n",
       "1          140              12  \n",
       "2           85               3  \n",
       "3          120               7  \n",
       "4           62               2  "
      ]
     },
     "execution_count": 19,
     "metadata": {},
     "output_type": "execute_result"
    }
   ],
   "source": [
    "df.head()"
   ]
  },
  {
   "cell_type": "code",
   "execution_count": 20,
   "id": "a30abc28",
   "metadata": {},
   "outputs": [],
   "source": [
    "### Count #tags and @Mentions"
   ]
  },
  {
   "cell_type": "code",
   "execution_count": 21,
   "id": "0a6c715e",
   "metadata": {},
   "outputs": [],
   "source": [
    "df['hashtags_count']=df['twitts'].apply(lambda x:len([t for t in x.split() if t.startswith('#') ]))\n",
    "df['mentions_count']=df['twitts'].apply(lambda x:len([t for t in x.split() if t.startswith('@') ]))"
   ]
  },
  {
   "cell_type": "code",
   "execution_count": 22,
   "id": "fb742345",
   "metadata": {},
   "outputs": [
    {
     "data": {
      "text/html": [
       "<div>\n",
       "<style scoped>\n",
       "    .dataframe tbody tr th:only-of-type {\n",
       "        vertical-align: middle;\n",
       "    }\n",
       "\n",
       "    .dataframe tbody tr th {\n",
       "        vertical-align: top;\n",
       "    }\n",
       "\n",
       "    .dataframe thead th {\n",
       "        text-align: right;\n",
       "    }\n",
       "</style>\n",
       "<table border=\"1\" class=\"dataframe\">\n",
       "  <thead>\n",
       "    <tr style=\"text-align: right;\">\n",
       "      <th></th>\n",
       "      <th>twitts</th>\n",
       "      <th>class</th>\n",
       "      <th>Words_Count</th>\n",
       "      <th>Chars_Count</th>\n",
       "      <th>stop_words-len</th>\n",
       "      <th>hashtags_count</th>\n",
       "      <th>mentions_count</th>\n",
       "    </tr>\n",
       "  </thead>\n",
       "  <tbody>\n",
       "    <tr>\n",
       "      <th>0</th>\n",
       "      <td>tweet</td>\n",
       "      <td>class</td>\n",
       "      <td>1</td>\n",
       "      <td>5</td>\n",
       "      <td>0</td>\n",
       "      <td>0</td>\n",
       "      <td>0</td>\n",
       "    </tr>\n",
       "    <tr>\n",
       "      <th>1</th>\n",
       "      <td>!!! RT @mayasolovely: As a woman you shouldn't...</td>\n",
       "      <td>2</td>\n",
       "      <td>25</td>\n",
       "      <td>140</td>\n",
       "      <td>12</td>\n",
       "      <td>0</td>\n",
       "      <td>1</td>\n",
       "    </tr>\n",
       "    <tr>\n",
       "      <th>2</th>\n",
       "      <td>!!!!! RT @mleew17: boy dats cold...tyga dwn ba...</td>\n",
       "      <td>1</td>\n",
       "      <td>16</td>\n",
       "      <td>85</td>\n",
       "      <td>3</td>\n",
       "      <td>0</td>\n",
       "      <td>1</td>\n",
       "    </tr>\n",
       "    <tr>\n",
       "      <th>3</th>\n",
       "      <td>!!!!!!! RT @UrKindOfBrand Dawg!!!! RT @80sbaby...</td>\n",
       "      <td>1</td>\n",
       "      <td>21</td>\n",
       "      <td>120</td>\n",
       "      <td>7</td>\n",
       "      <td>0</td>\n",
       "      <td>2</td>\n",
       "    </tr>\n",
       "    <tr>\n",
       "      <th>4</th>\n",
       "      <td>!!!!!!!!! RT @C_G_Anderson: @viva_based she lo...</td>\n",
       "      <td>1</td>\n",
       "      <td>9</td>\n",
       "      <td>62</td>\n",
       "      <td>2</td>\n",
       "      <td>0</td>\n",
       "      <td>2</td>\n",
       "    </tr>\n",
       "  </tbody>\n",
       "</table>\n",
       "</div>"
      ],
      "text/plain": [
       "                                              twitts  class  Words_Count  \\\n",
       "0                                              tweet  class            1   \n",
       "1  !!! RT @mayasolovely: As a woman you shouldn't...      2           25   \n",
       "2  !!!!! RT @mleew17: boy dats cold...tyga dwn ba...      1           16   \n",
       "3  !!!!!!! RT @UrKindOfBrand Dawg!!!! RT @80sbaby...      1           21   \n",
       "4  !!!!!!!!! RT @C_G_Anderson: @viva_based she lo...      1            9   \n",
       "\n",
       "   Chars_Count  stop_words-len  hashtags_count  mentions_count  \n",
       "0            5               0               0               0  \n",
       "1          140              12               0               1  \n",
       "2           85               3               0               1  \n",
       "3          120               7               0               2  \n",
       "4           62               2               0               2  "
      ]
     },
     "execution_count": 22,
     "metadata": {},
     "output_type": "execute_result"
    }
   ],
   "source": [
    "df.head()"
   ]
  },
  {
   "cell_type": "code",
   "execution_count": 23,
   "id": "4c64ed82",
   "metadata": {},
   "outputs": [],
   "source": [
    "###If numeric digits are present in twitts"
   ]
  },
  {
   "cell_type": "code",
   "execution_count": 24,
   "id": "7b0ec6a8",
   "metadata": {},
   "outputs": [],
   "source": [
    "df['numeris_count']=df['twitts'].apply(lambda x: len([t for t in x.split() if t.isdigit()]))"
   ]
  },
  {
   "cell_type": "code",
   "execution_count": 25,
   "id": "84c135a2",
   "metadata": {},
   "outputs": [
    {
     "data": {
      "text/html": [
       "<div>\n",
       "<style scoped>\n",
       "    .dataframe tbody tr th:only-of-type {\n",
       "        vertical-align: middle;\n",
       "    }\n",
       "\n",
       "    .dataframe tbody tr th {\n",
       "        vertical-align: top;\n",
       "    }\n",
       "\n",
       "    .dataframe thead th {\n",
       "        text-align: right;\n",
       "    }\n",
       "</style>\n",
       "<table border=\"1\" class=\"dataframe\">\n",
       "  <thead>\n",
       "    <tr style=\"text-align: right;\">\n",
       "      <th></th>\n",
       "      <th>twitts</th>\n",
       "      <th>class</th>\n",
       "      <th>Words_Count</th>\n",
       "      <th>Chars_Count</th>\n",
       "      <th>stop_words-len</th>\n",
       "      <th>hashtags_count</th>\n",
       "      <th>mentions_count</th>\n",
       "      <th>numeris_count</th>\n",
       "    </tr>\n",
       "  </thead>\n",
       "  <tbody>\n",
       "    <tr>\n",
       "      <th>0</th>\n",
       "      <td>tweet</td>\n",
       "      <td>class</td>\n",
       "      <td>1</td>\n",
       "      <td>5</td>\n",
       "      <td>0</td>\n",
       "      <td>0</td>\n",
       "      <td>0</td>\n",
       "      <td>0</td>\n",
       "    </tr>\n",
       "    <tr>\n",
       "      <th>1</th>\n",
       "      <td>!!! RT @mayasolovely: As a woman you shouldn't...</td>\n",
       "      <td>2</td>\n",
       "      <td>25</td>\n",
       "      <td>140</td>\n",
       "      <td>12</td>\n",
       "      <td>0</td>\n",
       "      <td>1</td>\n",
       "      <td>0</td>\n",
       "    </tr>\n",
       "    <tr>\n",
       "      <th>2</th>\n",
       "      <td>!!!!! RT @mleew17: boy dats cold...tyga dwn ba...</td>\n",
       "      <td>1</td>\n",
       "      <td>16</td>\n",
       "      <td>85</td>\n",
       "      <td>3</td>\n",
       "      <td>0</td>\n",
       "      <td>1</td>\n",
       "      <td>0</td>\n",
       "    </tr>\n",
       "    <tr>\n",
       "      <th>3</th>\n",
       "      <td>!!!!!!! RT @UrKindOfBrand Dawg!!!! RT @80sbaby...</td>\n",
       "      <td>1</td>\n",
       "      <td>21</td>\n",
       "      <td>120</td>\n",
       "      <td>7</td>\n",
       "      <td>0</td>\n",
       "      <td>2</td>\n",
       "      <td>0</td>\n",
       "    </tr>\n",
       "    <tr>\n",
       "      <th>4</th>\n",
       "      <td>!!!!!!!!! RT @C_G_Anderson: @viva_based she lo...</td>\n",
       "      <td>1</td>\n",
       "      <td>9</td>\n",
       "      <td>62</td>\n",
       "      <td>2</td>\n",
       "      <td>0</td>\n",
       "      <td>2</td>\n",
       "      <td>0</td>\n",
       "    </tr>\n",
       "  </tbody>\n",
       "</table>\n",
       "</div>"
      ],
      "text/plain": [
       "                                              twitts  class  Words_Count  \\\n",
       "0                                              tweet  class            1   \n",
       "1  !!! RT @mayasolovely: As a woman you shouldn't...      2           25   \n",
       "2  !!!!! RT @mleew17: boy dats cold...tyga dwn ba...      1           16   \n",
       "3  !!!!!!! RT @UrKindOfBrand Dawg!!!! RT @80sbaby...      1           21   \n",
       "4  !!!!!!!!! RT @C_G_Anderson: @viva_based she lo...      1            9   \n",
       "\n",
       "   Chars_Count  stop_words-len  hashtags_count  mentions_count  numeris_count  \n",
       "0            5               0               0               0              0  \n",
       "1          140              12               0               1              0  \n",
       "2           85               3               0               1              0  \n",
       "3          120               7               0               2              0  \n",
       "4           62               2               0               2              0  "
      ]
     },
     "execution_count": 25,
     "metadata": {},
     "output_type": "execute_result"
    }
   ],
   "source": [
    "df.head()"
   ]
  },
  {
   "cell_type": "code",
   "execution_count": 26,
   "id": "3d166d43",
   "metadata": {},
   "outputs": [],
   "source": [
    "###Upper Case Word Counts"
   ]
  },
  {
   "cell_type": "code",
   "execution_count": 27,
   "id": "841e2bda",
   "metadata": {},
   "outputs": [],
   "source": [
    "df['upper_count']=df['twitts'].apply(lambda x: len([t for t in x.split() if t.isupper() and len(x)>3]))"
   ]
  },
  {
   "cell_type": "code",
   "execution_count": 28,
   "id": "452d56c9",
   "metadata": {},
   "outputs": [
    {
     "data": {
      "text/html": [
       "<div>\n",
       "<style scoped>\n",
       "    .dataframe tbody tr th:only-of-type {\n",
       "        vertical-align: middle;\n",
       "    }\n",
       "\n",
       "    .dataframe tbody tr th {\n",
       "        vertical-align: top;\n",
       "    }\n",
       "\n",
       "    .dataframe thead th {\n",
       "        text-align: right;\n",
       "    }\n",
       "</style>\n",
       "<table border=\"1\" class=\"dataframe\">\n",
       "  <thead>\n",
       "    <tr style=\"text-align: right;\">\n",
       "      <th></th>\n",
       "      <th>twitts</th>\n",
       "      <th>class</th>\n",
       "      <th>Words_Count</th>\n",
       "      <th>Chars_Count</th>\n",
       "      <th>stop_words-len</th>\n",
       "      <th>hashtags_count</th>\n",
       "      <th>mentions_count</th>\n",
       "      <th>numeris_count</th>\n",
       "      <th>upper_count</th>\n",
       "    </tr>\n",
       "  </thead>\n",
       "  <tbody>\n",
       "    <tr>\n",
       "      <th>0</th>\n",
       "      <td>tweet</td>\n",
       "      <td>class</td>\n",
       "      <td>1</td>\n",
       "      <td>5</td>\n",
       "      <td>0</td>\n",
       "      <td>0</td>\n",
       "      <td>0</td>\n",
       "      <td>0</td>\n",
       "      <td>0</td>\n",
       "    </tr>\n",
       "    <tr>\n",
       "      <th>1</th>\n",
       "      <td>!!! RT @mayasolovely: As a woman you shouldn't...</td>\n",
       "      <td>2</td>\n",
       "      <td>25</td>\n",
       "      <td>140</td>\n",
       "      <td>12</td>\n",
       "      <td>0</td>\n",
       "      <td>1</td>\n",
       "      <td>0</td>\n",
       "      <td>1</td>\n",
       "    </tr>\n",
       "    <tr>\n",
       "      <th>2</th>\n",
       "      <td>!!!!! RT @mleew17: boy dats cold...tyga dwn ba...</td>\n",
       "      <td>1</td>\n",
       "      <td>16</td>\n",
       "      <td>85</td>\n",
       "      <td>3</td>\n",
       "      <td>0</td>\n",
       "      <td>1</td>\n",
       "      <td>0</td>\n",
       "      <td>1</td>\n",
       "    </tr>\n",
       "    <tr>\n",
       "      <th>3</th>\n",
       "      <td>!!!!!!! RT @UrKindOfBrand Dawg!!!! RT @80sbaby...</td>\n",
       "      <td>1</td>\n",
       "      <td>21</td>\n",
       "      <td>120</td>\n",
       "      <td>7</td>\n",
       "      <td>0</td>\n",
       "      <td>2</td>\n",
       "      <td>0</td>\n",
       "      <td>2</td>\n",
       "    </tr>\n",
       "    <tr>\n",
       "      <th>4</th>\n",
       "      <td>!!!!!!!!! RT @C_G_Anderson: @viva_based she lo...</td>\n",
       "      <td>1</td>\n",
       "      <td>9</td>\n",
       "      <td>62</td>\n",
       "      <td>2</td>\n",
       "      <td>0</td>\n",
       "      <td>2</td>\n",
       "      <td>0</td>\n",
       "      <td>1</td>\n",
       "    </tr>\n",
       "  </tbody>\n",
       "</table>\n",
       "</div>"
      ],
      "text/plain": [
       "                                              twitts  class  Words_Count  \\\n",
       "0                                              tweet  class            1   \n",
       "1  !!! RT @mayasolovely: As a woman you shouldn't...      2           25   \n",
       "2  !!!!! RT @mleew17: boy dats cold...tyga dwn ba...      1           16   \n",
       "3  !!!!!!! RT @UrKindOfBrand Dawg!!!! RT @80sbaby...      1           21   \n",
       "4  !!!!!!!!! RT @C_G_Anderson: @viva_based she lo...      1            9   \n",
       "\n",
       "   Chars_Count  stop_words-len  hashtags_count  mentions_count  numeris_count  \\\n",
       "0            5               0               0               0              0   \n",
       "1          140              12               0               1              0   \n",
       "2           85               3               0               1              0   \n",
       "3          120               7               0               2              0   \n",
       "4           62               2               0               2              0   \n",
       "\n",
       "   upper_count  \n",
       "0            0  \n",
       "1            1  \n",
       "2            1  \n",
       "3            2  \n",
       "4            1  "
      ]
     },
     "execution_count": 28,
     "metadata": {},
     "output_type": "execute_result"
    }
   ],
   "source": [
    "df.head()"
   ]
  },
  {
   "cell_type": "code",
   "execution_count": 29,
   "id": "183f1fa1",
   "metadata": {},
   "outputs": [],
   "source": [
    "###Prepocessing and cleaning"
   ]
  },
  {
   "cell_type": "code",
   "execution_count": 30,
   "id": "cc750ab9",
   "metadata": {},
   "outputs": [],
   "source": [
    "###Lower case Conversion"
   ]
  },
  {
   "cell_type": "code",
   "execution_count": 31,
   "id": "286e2838",
   "metadata": {},
   "outputs": [],
   "source": [
    "df['twitts']=df['twitts'].apply(lambda x: x.lower())"
   ]
  },
  {
   "cell_type": "code",
   "execution_count": 32,
   "id": "42a34b95",
   "metadata": {},
   "outputs": [
    {
     "data": {
      "text/html": [
       "<div>\n",
       "<style scoped>\n",
       "    .dataframe tbody tr th:only-of-type {\n",
       "        vertical-align: middle;\n",
       "    }\n",
       "\n",
       "    .dataframe tbody tr th {\n",
       "        vertical-align: top;\n",
       "    }\n",
       "\n",
       "    .dataframe thead th {\n",
       "        text-align: right;\n",
       "    }\n",
       "</style>\n",
       "<table border=\"1\" class=\"dataframe\">\n",
       "  <thead>\n",
       "    <tr style=\"text-align: right;\">\n",
       "      <th></th>\n",
       "      <th>twitts</th>\n",
       "      <th>class</th>\n",
       "      <th>Words_Count</th>\n",
       "      <th>Chars_Count</th>\n",
       "      <th>stop_words-len</th>\n",
       "      <th>hashtags_count</th>\n",
       "      <th>mentions_count</th>\n",
       "      <th>numeris_count</th>\n",
       "      <th>upper_count</th>\n",
       "    </tr>\n",
       "  </thead>\n",
       "  <tbody>\n",
       "    <tr>\n",
       "      <th>0</th>\n",
       "      <td>tweet</td>\n",
       "      <td>class</td>\n",
       "      <td>1</td>\n",
       "      <td>5</td>\n",
       "      <td>0</td>\n",
       "      <td>0</td>\n",
       "      <td>0</td>\n",
       "      <td>0</td>\n",
       "      <td>0</td>\n",
       "    </tr>\n",
       "    <tr>\n",
       "      <th>1</th>\n",
       "      <td>!!! rt @mayasolovely: as a woman you shouldn't...</td>\n",
       "      <td>2</td>\n",
       "      <td>25</td>\n",
       "      <td>140</td>\n",
       "      <td>12</td>\n",
       "      <td>0</td>\n",
       "      <td>1</td>\n",
       "      <td>0</td>\n",
       "      <td>1</td>\n",
       "    </tr>\n",
       "    <tr>\n",
       "      <th>2</th>\n",
       "      <td>!!!!! rt @mleew17: boy dats cold...tyga dwn ba...</td>\n",
       "      <td>1</td>\n",
       "      <td>16</td>\n",
       "      <td>85</td>\n",
       "      <td>3</td>\n",
       "      <td>0</td>\n",
       "      <td>1</td>\n",
       "      <td>0</td>\n",
       "      <td>1</td>\n",
       "    </tr>\n",
       "    <tr>\n",
       "      <th>3</th>\n",
       "      <td>!!!!!!! rt @urkindofbrand dawg!!!! rt @80sbaby...</td>\n",
       "      <td>1</td>\n",
       "      <td>21</td>\n",
       "      <td>120</td>\n",
       "      <td>7</td>\n",
       "      <td>0</td>\n",
       "      <td>2</td>\n",
       "      <td>0</td>\n",
       "      <td>2</td>\n",
       "    </tr>\n",
       "    <tr>\n",
       "      <th>4</th>\n",
       "      <td>!!!!!!!!! rt @c_g_anderson: @viva_based she lo...</td>\n",
       "      <td>1</td>\n",
       "      <td>9</td>\n",
       "      <td>62</td>\n",
       "      <td>2</td>\n",
       "      <td>0</td>\n",
       "      <td>2</td>\n",
       "      <td>0</td>\n",
       "      <td>1</td>\n",
       "    </tr>\n",
       "  </tbody>\n",
       "</table>\n",
       "</div>"
      ],
      "text/plain": [
       "                                              twitts  class  Words_Count  \\\n",
       "0                                              tweet  class            1   \n",
       "1  !!! rt @mayasolovely: as a woman you shouldn't...      2           25   \n",
       "2  !!!!! rt @mleew17: boy dats cold...tyga dwn ba...      1           16   \n",
       "3  !!!!!!! rt @urkindofbrand dawg!!!! rt @80sbaby...      1           21   \n",
       "4  !!!!!!!!! rt @c_g_anderson: @viva_based she lo...      1            9   \n",
       "\n",
       "   Chars_Count  stop_words-len  hashtags_count  mentions_count  numeris_count  \\\n",
       "0            5               0               0               0              0   \n",
       "1          140              12               0               1              0   \n",
       "2           85               3               0               1              0   \n",
       "3          120               7               0               2              0   \n",
       "4           62               2               0               2              0   \n",
       "\n",
       "   upper_count  \n",
       "0            0  \n",
       "1            1  \n",
       "2            1  \n",
       "3            2  \n",
       "4            1  "
      ]
     },
     "execution_count": 32,
     "metadata": {},
     "output_type": "execute_result"
    }
   ],
   "source": [
    "df.head()"
   ]
  },
  {
   "cell_type": "code",
   "execution_count": 33,
   "id": "ac5f1f92",
   "metadata": {},
   "outputs": [],
   "source": [
    "contractions={\n",
    "\"aight\":\"alright\",\n",
    "\"ain't\":\"is not\",\n",
    "\"amn't\":\" am not\",\n",
    "\"aren't\": \"are not\",\n",
    "\"can't\":\"can not\",\n",
    "\"cause\":\"because\",\n",
    "\"could've\":\"could have\",\n",
    "\"couldn't\":\"could not\",\n",
    "\"couldn'tve\":\"could not have\",\n",
    "\"daren't\":\"dare not\",\n",
    "\"daresn't\":\"dare not\",\n",
    "\"dasn't\":\"dare not\",\n",
    "\"didn't\":\"did not\",\n",
    "\"doesn't\":\"does not\",\n",
    "\"don't\":\"do not\",\n",
    "\"dunno\":\"do not know\",\n",
    "\"d'ye\":\"do you\",\n",
    "\"e'er\":\"ever\",\n",
    "\"everybody's\":\"everybody is\",\n",
    "\"everyone's\":\"everyone is\",\n",
    "\"finna\":\"fixing\",\n",
    "\"g'day\":\"good day\",\n",
    "\"gimme\":\"give me\",\n",
    "\"giv'n\":\"given\",\n",
    "\"gonna\":\"going to\",\n",
    "\"gon't\":\"go not\",\n",
    "\"gotta\":\"got to\",\n",
    "\"hadn't\":\"had not\",\n",
    "\"had've\":\"had have\",\n",
    "\"hasn't\":\"has not\",\n",
    "\"haven't\":\"have not\",\n",
    "\"he'd\":\"he had\",\n",
    "\"he'll\":\"he will\",\n",
    "\"he's\":\"he is\",\n",
    "\"he've\":\"he have\",\n",
    "\"how'd\":\"how did\",\n",
    "\"howdy\":\"how do you do\",\n",
    "\"how'll\":\"how will\",\n",
    "\"how're\":\"how are\",\n",
    "\"how's\":\"how is\",\n",
    "\"I'd\":\"i had\",\n",
    "\"I'd've\":\"i would have\",\n",
    "\"I'll\":\"i will\",\n",
    "\"I'm\":\"i am\",\n",
    "\"I'm'a\":\"i am about to\",\n",
    "\"I'm'o\":\"i am going to\",\n",
    "\"innit\":\"is it not\",\n",
    "\"I've\":\"i have\",\n",
    "\"isn't\":\"is not\",\n",
    "\"it'd\":\"it would\",\n",
    "\"it'll\":\"it will\",\n",
    "\"it's\":\"it is\",\n",
    "\"iunno\":\"i do not know\",\n",
    "\"let's\":\"let us\",\n",
    "\"ma'am\":\"madam\",\n",
    "\"mayn't\":\"may not\",\n",
    "\"may've\":\"may have\",\n",
    "\"methinks\":\"me thinks\",\n",
    "\"mightn't\":\"might not\",\n",
    "\"might've\":\"might have\",\n",
    "\"mustn't\":\"must not\",\n",
    "\"mustn't've\":\"must not have\",\n",
    "\"must've\":\"must have\",\n",
    "\"needn't\":\"need not\",\n",
    "\"ne'er\":\"never\",\n",
    "\"o'clock\":\"of the clock\",\n",
    "\"o'er\":\"over\",\n",
    "\"ol'\":\"old\",\n",
    "\"oughtn't\":\"ought not\",\n",
    "\"'s\":\"is\",\n",
    "\"shalln't\":\"shall not\",\n",
    "\"shan't\":\"shall not\",\n",
    "\"she'd\":\"she had\",\n",
    "\"she'll\":\"she shall\",\n",
    "\"she's\":\"she has\",\n",
    "\"should've\":\"should have\",\n",
    "\"shouldn't\":\"should not\",\n",
    "\"shouldn't've\":\"should not have\",\n",
    "\"somebody's\":\"somebody is\",\n",
    "\"someone's\":\"someone is\",\n",
    "\"something's\":\"something is\",\n",
    "\"so're\":\"so are\",\n",
    "\"that'll\":\"that will\",\n",
    "\"that're\":\"that are\",\n",
    "\"that's\":\"that is\",\n",
    "\"that'd\":\"that would\",\n",
    "\"there'd\":\"there would\",\n",
    "\"there'll\":\"there will\",\n",
    "\"there're\":\"there are\",\n",
    "\"there's\":\"there is\",\n",
    "\"these're\":\"these are\",\n",
    "\"these've\":\"these have\",\n",
    "\"they'd\":\"they would\",\n",
    "\"they'l\":\"they will\",\n",
    "\"they're\":\"they are\",\n",
    "\"they've\":\"they have\",\n",
    "\"this's\":\"this is\",\n",
    "\"those're\":\"those are\",\n",
    "\"those've\":\"those have\",\n",
    "\"'tis\":\"it is\",\n",
    "\"to've\":\"to have\",\n",
    "\"'twas\":\"it was\",\n",
    "\"wanna\":\"want to\",\n",
    "\"wasn't\":\"was not\",\n",
    "\"we'd\":\"we would\",\n",
    "\"we'd've\":\"we would have\",\n",
    "\"we'll\":\"we will\",\n",
    "\"we're\":\"we are\",\n",
    "\"we've\":\"we have\",\n",
    "\"weren't\":\"were not\",\n",
    "\"what'd\":\"what did\",\n",
    "\"what'll\":\"what will\",\n",
    "\"what're\":\"what are\",\n",
    "\"what's\":\"what is\",\n",
    "\"what've\":\"what have\",\n",
    "\"when's\":\"when is\",\n",
    "\"where'd\":\"where did\",\n",
    "\"where'll\":\"where will\",\n",
    "\"where're\":\"where are\",\n",
    "\"where's\":\"where is\",\n",
    "\"where've\":\"where have\",\n",
    "\"which'd\":\"which would\",\n",
    "\"which'll\":\"which will\",\n",
    "\"which're\":\"which are\",\n",
    "\"which's\":\"which is\",\n",
    "\"which've\":\"which have\",\n",
    "\"who'd\":\"who would\",\n",
    "\"who'd've\":\"who would have\",\n",
    "\"who'll\":\"who will\",\n",
    "\"who're\":\"who are\",\n",
    "\"who's\":\"who is\",\n",
    "\"who've\":\"who have\",\n",
    "\"why'd\":\"why did\",\n",
    "\"why're\":\"why are\",\n",
    "\"why's\":\"why is\",\n",
    "\"willn't\":\"will not\",\n",
    "\"won't\":\"will not\",\n",
    "\"wonnot\":\"will not\",\n",
    "\"would've\":\"would have\",\n",
    "\"wouldn't\":\"would not\",\n",
    "\"wouldn't've\":\"would not have\",\n",
    "\"y'all\":\"you all\",\n",
    "\"y'all'd've\":\"you all would have\",\n",
    "\"y'all're\":\"you all are\",\n",
    "\"you'd\":\"you would\",\n",
    "\"you'll\":\"you will\",\n",
    "\"you're\":\"you are\",\n",
    "\"you've\":\"you have\"}\n"
   ]
  },
  {
   "cell_type": "code",
   "execution_count": 34,
   "id": "78e1a863",
   "metadata": {},
   "outputs": [],
   "source": [
    "def  cont_to_exp(x):\n",
    "    if type(x) is str:\n",
    "        for key in contractions:\n",
    "            value = contractions[key]\n",
    "            x= x.replace(key, value)\n",
    "        return x\n",
    "    else:\n",
    "        return x"
   ]
  },
  {
   "cell_type": "code",
   "execution_count": 35,
   "id": "2b9a8d81",
   "metadata": {},
   "outputs": [
    {
     "name": "stdout",
     "output_type": "stream",
     "text": [
      "Wall time: 639 ms\n"
     ]
    }
   ],
   "source": [
    "%%time\n",
    "df['twitts']=df['twitts'].apply(lambda x:cont_to_exp(x))"
   ]
  },
  {
   "cell_type": "code",
   "execution_count": 36,
   "id": "ea5bc858",
   "metadata": {},
   "outputs": [],
   "source": [
    "###For Example"
   ]
  },
  {
   "cell_type": "code",
   "execution_count": 37,
   "id": "ea9b2b1c",
   "metadata": {},
   "outputs": [],
   "source": [
    "x=\"hi, I'd be happy\""
   ]
  },
  {
   "cell_type": "code",
   "execution_count": 38,
   "id": "a1b8dc87",
   "metadata": {},
   "outputs": [
    {
     "data": {
      "text/plain": [
       "'hi, i had be happy'"
      ]
     },
     "execution_count": 38,
     "metadata": {},
     "output_type": "execute_result"
    }
   ],
   "source": [
    "cont_to_exp(x)"
   ]
  },
  {
   "cell_type": "code",
   "execution_count": 39,
   "id": "5dc00fed",
   "metadata": {},
   "outputs": [
    {
     "data": {
      "text/html": [
       "<div>\n",
       "<style scoped>\n",
       "    .dataframe tbody tr th:only-of-type {\n",
       "        vertical-align: middle;\n",
       "    }\n",
       "\n",
       "    .dataframe tbody tr th {\n",
       "        vertical-align: top;\n",
       "    }\n",
       "\n",
       "    .dataframe thead th {\n",
       "        text-align: right;\n",
       "    }\n",
       "</style>\n",
       "<table border=\"1\" class=\"dataframe\">\n",
       "  <thead>\n",
       "    <tr style=\"text-align: right;\">\n",
       "      <th></th>\n",
       "      <th>twitts</th>\n",
       "      <th>class</th>\n",
       "      <th>Words_Count</th>\n",
       "      <th>Chars_Count</th>\n",
       "      <th>stop_words-len</th>\n",
       "      <th>hashtags_count</th>\n",
       "      <th>mentions_count</th>\n",
       "      <th>numeris_count</th>\n",
       "      <th>upper_count</th>\n",
       "    </tr>\n",
       "  </thead>\n",
       "  <tbody>\n",
       "    <tr>\n",
       "      <th>0</th>\n",
       "      <td>tweet</td>\n",
       "      <td>class</td>\n",
       "      <td>1</td>\n",
       "      <td>5</td>\n",
       "      <td>0</td>\n",
       "      <td>0</td>\n",
       "      <td>0</td>\n",
       "      <td>0</td>\n",
       "      <td>0</td>\n",
       "    </tr>\n",
       "    <tr>\n",
       "      <th>1</th>\n",
       "      <td>!!! rt @mayasolovely: as a woman you should no...</td>\n",
       "      <td>2</td>\n",
       "      <td>25</td>\n",
       "      <td>140</td>\n",
       "      <td>12</td>\n",
       "      <td>0</td>\n",
       "      <td>1</td>\n",
       "      <td>0</td>\n",
       "      <td>1</td>\n",
       "    </tr>\n",
       "    <tr>\n",
       "      <th>2</th>\n",
       "      <td>!!!!! rt @mleew17: boy dats cold...tyga dwn ba...</td>\n",
       "      <td>1</td>\n",
       "      <td>16</td>\n",
       "      <td>85</td>\n",
       "      <td>3</td>\n",
       "      <td>0</td>\n",
       "      <td>1</td>\n",
       "      <td>0</td>\n",
       "      <td>1</td>\n",
       "    </tr>\n",
       "    <tr>\n",
       "      <th>3</th>\n",
       "      <td>!!!!!!! rt @urkindofbrand dawg!!!! rt @80sbaby...</td>\n",
       "      <td>1</td>\n",
       "      <td>21</td>\n",
       "      <td>120</td>\n",
       "      <td>7</td>\n",
       "      <td>0</td>\n",
       "      <td>2</td>\n",
       "      <td>0</td>\n",
       "      <td>2</td>\n",
       "    </tr>\n",
       "    <tr>\n",
       "      <th>4</th>\n",
       "      <td>!!!!!!!!! rt @c_g_anderson: @viva_based she lo...</td>\n",
       "      <td>1</td>\n",
       "      <td>9</td>\n",
       "      <td>62</td>\n",
       "      <td>2</td>\n",
       "      <td>0</td>\n",
       "      <td>2</td>\n",
       "      <td>0</td>\n",
       "      <td>1</td>\n",
       "    </tr>\n",
       "  </tbody>\n",
       "</table>\n",
       "</div>"
      ],
      "text/plain": [
       "                                              twitts  class  Words_Count  \\\n",
       "0                                              tweet  class            1   \n",
       "1  !!! rt @mayasolovely: as a woman you should no...      2           25   \n",
       "2  !!!!! rt @mleew17: boy dats cold...tyga dwn ba...      1           16   \n",
       "3  !!!!!!! rt @urkindofbrand dawg!!!! rt @80sbaby...      1           21   \n",
       "4  !!!!!!!!! rt @c_g_anderson: @viva_based she lo...      1            9   \n",
       "\n",
       "   Chars_Count  stop_words-len  hashtags_count  mentions_count  numeris_count  \\\n",
       "0            5               0               0               0              0   \n",
       "1          140              12               0               1              0   \n",
       "2           85               3               0               1              0   \n",
       "3          120               7               0               2              0   \n",
       "4           62               2               0               2              0   \n",
       "\n",
       "   upper_count  \n",
       "0            0  \n",
       "1            1  \n",
       "2            1  \n",
       "3            2  \n",
       "4            1  "
      ]
     },
     "execution_count": 39,
     "metadata": {},
     "output_type": "execute_result"
    }
   ],
   "source": [
    "df.head()"
   ]
  },
  {
   "cell_type": "code",
   "execution_count": 40,
   "id": "94265da4",
   "metadata": {},
   "outputs": [],
   "source": [
    "import re"
   ]
  },
  {
   "cell_type": "code",
   "execution_count": 41,
   "id": "60c0466e",
   "metadata": {},
   "outputs": [],
   "source": [
    "x='hi aminmoh0193@gmail.com abn how are you'"
   ]
  },
  {
   "cell_type": "code",
   "execution_count": 42,
   "id": "d5134b00",
   "metadata": {},
   "outputs": [
    {
     "data": {
      "text/plain": [
       "['aminmoh0193@gmail.com']"
      ]
     },
     "execution_count": 42,
     "metadata": {},
     "output_type": "execute_result"
    }
   ],
   "source": [
    "re.findall(r'([a-zA-Z0-9+._-]+@[a-zA-Z0-9+._-]+\\.[a-zA-Z0-9+._-]+)',x)"
   ]
  },
  {
   "cell_type": "code",
   "execution_count": 43,
   "id": "8ca4631f",
   "metadata": {},
   "outputs": [],
   "source": [
    "df['emails']=df['twitts'].apply(lambda x:re.findall(r'([a-zA-Z0-9+._-]+@[a-zA-Z0-9+._-]+\\.[a-zA-Z0-9+._-]+)',x))"
   ]
  },
  {
   "cell_type": "code",
   "execution_count": 44,
   "id": "08dcf642",
   "metadata": {},
   "outputs": [],
   "source": [
    "df['emails_count']=df['emails'].apply(lambda x:len(x))"
   ]
  },
  {
   "cell_type": "code",
   "execution_count": 45,
   "id": "9b6d4867",
   "metadata": {},
   "outputs": [
    {
     "data": {
      "text/html": [
       "<div>\n",
       "<style scoped>\n",
       "    .dataframe tbody tr th:only-of-type {\n",
       "        vertical-align: middle;\n",
       "    }\n",
       "\n",
       "    .dataframe tbody tr th {\n",
       "        vertical-align: top;\n",
       "    }\n",
       "\n",
       "    .dataframe thead th {\n",
       "        text-align: right;\n",
       "    }\n",
       "</style>\n",
       "<table border=\"1\" class=\"dataframe\">\n",
       "  <thead>\n",
       "    <tr style=\"text-align: right;\">\n",
       "      <th></th>\n",
       "      <th>twitts</th>\n",
       "      <th>class</th>\n",
       "      <th>Words_Count</th>\n",
       "      <th>Chars_Count</th>\n",
       "      <th>stop_words-len</th>\n",
       "      <th>hashtags_count</th>\n",
       "      <th>mentions_count</th>\n",
       "      <th>numeris_count</th>\n",
       "      <th>upper_count</th>\n",
       "      <th>emails</th>\n",
       "      <th>emails_count</th>\n",
       "    </tr>\n",
       "  </thead>\n",
       "  <tbody>\n",
       "    <tr>\n",
       "      <th>2244</th>\n",
       "      <td>2fine4cheapwine@yahoo.com &amp;#171;@datjollygirl ...</td>\n",
       "      <td>1</td>\n",
       "      <td>19</td>\n",
       "      <td>141</td>\n",
       "      <td>8</td>\n",
       "      <td>0</td>\n",
       "      <td>0</td>\n",
       "      <td>0</td>\n",
       "      <td>0</td>\n",
       "      <td>[2fine4cheapwine@yahoo.com]</td>\n",
       "      <td>1</td>\n",
       "    </tr>\n",
       "    <tr>\n",
       "      <th>7019</th>\n",
       "      <td>@shareefkeyes fat hoes need a treadmill??? lol...</td>\n",
       "      <td>1</td>\n",
       "      <td>9</td>\n",
       "      <td>77</td>\n",
       "      <td>1</td>\n",
       "      <td>0</td>\n",
       "      <td>1</td>\n",
       "      <td>0</td>\n",
       "      <td>0</td>\n",
       "      <td>[therealwesjames@gmail.com]</td>\n",
       "      <td>1</td>\n",
       "    </tr>\n",
       "    <tr>\n",
       "      <th>19215</th>\n",
       "      <td>rt @iammaliachigh: every bitch with her ass ou...</td>\n",
       "      <td>1</td>\n",
       "      <td>20</td>\n",
       "      <td>132</td>\n",
       "      <td>7</td>\n",
       "      <td>0</td>\n",
       "      <td>1</td>\n",
       "      <td>0</td>\n",
       "      <td>1</td>\n",
       "      <td>[backpagepussy@gmail.com]</td>\n",
       "      <td>1</td>\n",
       "    </tr>\n",
       "  </tbody>\n",
       "</table>\n",
       "</div>"
      ],
      "text/plain": [
       "                                                  twitts class  Words_Count  \\\n",
       "2244   2fine4cheapwine@yahoo.com &#171;@datjollygirl ...     1           19   \n",
       "7019   @shareefkeyes fat hoes need a treadmill??? lol...     1            9   \n",
       "19215  rt @iammaliachigh: every bitch with her ass ou...     1           20   \n",
       "\n",
       "       Chars_Count  stop_words-len  hashtags_count  mentions_count  \\\n",
       "2244           141               8               0               0   \n",
       "7019            77               1               0               1   \n",
       "19215          132               7               0               1   \n",
       "\n",
       "       numeris_count  upper_count                       emails  emails_count  \n",
       "2244               0            0  [2fine4cheapwine@yahoo.com]             1  \n",
       "7019               0            0  [therealwesjames@gmail.com]             1  \n",
       "19215              0            1    [backpagepussy@gmail.com]             1  "
      ]
     },
     "execution_count": 45,
     "metadata": {},
     "output_type": "execute_result"
    }
   ],
   "source": [
    "df[df['emails_count']>0].head()"
   ]
  },
  {
   "cell_type": "code",
   "execution_count": 46,
   "id": "e16ecd31",
   "metadata": {},
   "outputs": [],
   "source": [
    "x='hi, i would like to visit https://youtube.com/kaggle'"
   ]
  },
  {
   "cell_type": "code",
   "execution_count": 47,
   "id": "09f505a5",
   "metadata": {},
   "outputs": [
    {
     "data": {
      "text/plain": [
       "[('https', 'youtube.com', '/kaggle')]"
      ]
     },
     "execution_count": 47,
     "metadata": {},
     "output_type": "execute_result"
    }
   ],
   "source": [
    "re.findall(r'(http|ftp|https)://([\\w_-]+(?:(?:\\.[\\w_-]+)+))([\\w.,@?^=%&:/~+#-]*[\\w@?^=%&/~+#-])?',x)"
   ]
  },
  {
   "cell_type": "code",
   "execution_count": 48,
   "id": "b826e52c",
   "metadata": {},
   "outputs": [],
   "source": [
    "df['Url_flag']=df['twitts'].apply(lambda x:len(re.findall(r'(http|ftp|https)://([\\w_-]+(?:(?:\\.[\\w_-]+)+))([\\w.,@?^=%&:/~+#-]*[\\w@?^=%&/~+#-])?',x)))"
   ]
  },
  {
   "cell_type": "code",
   "execution_count": 49,
   "id": "14c0a603",
   "metadata": {},
   "outputs": [],
   "source": [
    "###Removiing or subrtacting all links"
   ]
  },
  {
   "cell_type": "code",
   "execution_count": 50,
   "id": "e364a04f",
   "metadata": {},
   "outputs": [
    {
     "data": {
      "text/plain": [
       "'hi, i would like to visit '"
      ]
     },
     "execution_count": 50,
     "metadata": {},
     "output_type": "execute_result"
    }
   ],
   "source": [
    "re.sub(r'(http|ftp|https)://([\\w_-]+(?:(?:\\.[\\w_-]+)+))([\\w.,@?^=%&:/~+#-]*[\\w@?^=%&/~+#-])?','',x)"
   ]
  },
  {
   "cell_type": "code",
   "execution_count": 51,
   "id": "9fba330c",
   "metadata": {},
   "outputs": [],
   "source": [
    "df['twitts']=df['twitts'].apply(lambda x:re.sub(r'(http|ftp|https)://([\\w_-]+(?:(?:\\.[\\w_-]+)+))([\\w.,@?^=%&:/~+#-]*[\\w@?^=%&/~+#-])?','',x))"
   ]
  },
  {
   "cell_type": "code",
   "execution_count": 52,
   "id": "c57e017d",
   "metadata": {},
   "outputs": [
    {
     "data": {
      "text/html": [
       "<div>\n",
       "<style scoped>\n",
       "    .dataframe tbody tr th:only-of-type {\n",
       "        vertical-align: middle;\n",
       "    }\n",
       "\n",
       "    .dataframe tbody tr th {\n",
       "        vertical-align: top;\n",
       "    }\n",
       "\n",
       "    .dataframe thead th {\n",
       "        text-align: right;\n",
       "    }\n",
       "</style>\n",
       "<table border=\"1\" class=\"dataframe\">\n",
       "  <thead>\n",
       "    <tr style=\"text-align: right;\">\n",
       "      <th></th>\n",
       "      <th>twitts</th>\n",
       "      <th>class</th>\n",
       "      <th>Words_Count</th>\n",
       "      <th>Chars_Count</th>\n",
       "      <th>stop_words-len</th>\n",
       "      <th>hashtags_count</th>\n",
       "      <th>mentions_count</th>\n",
       "      <th>numeris_count</th>\n",
       "      <th>upper_count</th>\n",
       "      <th>emails</th>\n",
       "      <th>emails_count</th>\n",
       "      <th>Url_flag</th>\n",
       "    </tr>\n",
       "  </thead>\n",
       "  <tbody>\n",
       "    <tr>\n",
       "      <th>0</th>\n",
       "      <td>tweet</td>\n",
       "      <td>class</td>\n",
       "      <td>1</td>\n",
       "      <td>5</td>\n",
       "      <td>0</td>\n",
       "      <td>0</td>\n",
       "      <td>0</td>\n",
       "      <td>0</td>\n",
       "      <td>0</td>\n",
       "      <td>[]</td>\n",
       "      <td>0</td>\n",
       "      <td>0</td>\n",
       "    </tr>\n",
       "    <tr>\n",
       "      <th>1</th>\n",
       "      <td>!!! rt @mayasolovely: as a woman you should no...</td>\n",
       "      <td>2</td>\n",
       "      <td>25</td>\n",
       "      <td>140</td>\n",
       "      <td>12</td>\n",
       "      <td>0</td>\n",
       "      <td>1</td>\n",
       "      <td>0</td>\n",
       "      <td>1</td>\n",
       "      <td>[]</td>\n",
       "      <td>0</td>\n",
       "      <td>0</td>\n",
       "    </tr>\n",
       "    <tr>\n",
       "      <th>2</th>\n",
       "      <td>!!!!! rt @mleew17: boy dats cold...tyga dwn ba...</td>\n",
       "      <td>1</td>\n",
       "      <td>16</td>\n",
       "      <td>85</td>\n",
       "      <td>3</td>\n",
       "      <td>0</td>\n",
       "      <td>1</td>\n",
       "      <td>0</td>\n",
       "      <td>1</td>\n",
       "      <td>[]</td>\n",
       "      <td>0</td>\n",
       "      <td>0</td>\n",
       "    </tr>\n",
       "    <tr>\n",
       "      <th>3</th>\n",
       "      <td>!!!!!!! rt @urkindofbrand dawg!!!! rt @80sbaby...</td>\n",
       "      <td>1</td>\n",
       "      <td>21</td>\n",
       "      <td>120</td>\n",
       "      <td>7</td>\n",
       "      <td>0</td>\n",
       "      <td>2</td>\n",
       "      <td>0</td>\n",
       "      <td>2</td>\n",
       "      <td>[]</td>\n",
       "      <td>0</td>\n",
       "      <td>0</td>\n",
       "    </tr>\n",
       "    <tr>\n",
       "      <th>4</th>\n",
       "      <td>!!!!!!!!! rt @c_g_anderson: @viva_based she lo...</td>\n",
       "      <td>1</td>\n",
       "      <td>9</td>\n",
       "      <td>62</td>\n",
       "      <td>2</td>\n",
       "      <td>0</td>\n",
       "      <td>2</td>\n",
       "      <td>0</td>\n",
       "      <td>1</td>\n",
       "      <td>[]</td>\n",
       "      <td>0</td>\n",
       "      <td>0</td>\n",
       "    </tr>\n",
       "  </tbody>\n",
       "</table>\n",
       "</div>"
      ],
      "text/plain": [
       "                                              twitts  class  Words_Count  \\\n",
       "0                                              tweet  class            1   \n",
       "1  !!! rt @mayasolovely: as a woman you should no...      2           25   \n",
       "2  !!!!! rt @mleew17: boy dats cold...tyga dwn ba...      1           16   \n",
       "3  !!!!!!! rt @urkindofbrand dawg!!!! rt @80sbaby...      1           21   \n",
       "4  !!!!!!!!! rt @c_g_anderson: @viva_based she lo...      1            9   \n",
       "\n",
       "   Chars_Count  stop_words-len  hashtags_count  mentions_count  numeris_count  \\\n",
       "0            5               0               0               0              0   \n",
       "1          140              12               0               1              0   \n",
       "2           85               3               0               1              0   \n",
       "3          120               7               0               2              0   \n",
       "4           62               2               0               2              0   \n",
       "\n",
       "   upper_count emails  emails_count  Url_flag  \n",
       "0            0     []             0         0  \n",
       "1            1     []             0         0  \n",
       "2            1     []             0         0  \n",
       "3            2     []             0         0  \n",
       "4            1     []             0         0  "
      ]
     },
     "execution_count": 52,
     "metadata": {},
     "output_type": "execute_result"
    }
   ],
   "source": [
    "df.head()"
   ]
  },
  {
   "cell_type": "code",
   "execution_count": 53,
   "id": "7772ca71",
   "metadata": {},
   "outputs": [
    {
     "data": {
      "text/plain": [
       "'tweet'"
      ]
     },
     "execution_count": 53,
     "metadata": {},
     "output_type": "execute_result"
    }
   ],
   "source": [
    "df.loc[0]['twitts']"
   ]
  },
  {
   "cell_type": "code",
   "execution_count": 54,
   "id": "5e68870c",
   "metadata": {},
   "outputs": [],
   "source": [
    "###Removing RT(Retwitts)"
   ]
  },
  {
   "cell_type": "code",
   "execution_count": 55,
   "id": "5271cd88",
   "metadata": {},
   "outputs": [],
   "source": [
    "df['twitts']=df['twitts'].apply(lambda x: re.sub('RT',\"\",x))"
   ]
  },
  {
   "cell_type": "code",
   "execution_count": null,
   "id": "51b9b60e",
   "metadata": {},
   "outputs": [],
   "source": []
  },
  {
   "cell_type": "code",
   "execution_count": 56,
   "id": "8e0c352b",
   "metadata": {},
   "outputs": [],
   "source": [
    "###Removing Special Character or puntuation"
   ]
  },
  {
   "cell_type": "code",
   "execution_count": 57,
   "id": "afeb95ac",
   "metadata": {},
   "outputs": [],
   "source": [
    "df['twitts']=df['twitts'].apply(lambda x: re.sub('[^A-Z a-z 0-9]+', '',x))"
   ]
  },
  {
   "cell_type": "code",
   "execution_count": 58,
   "id": "0c5e3c04",
   "metadata": {},
   "outputs": [
    {
     "data": {
      "text/html": [
       "<div>\n",
       "<style scoped>\n",
       "    .dataframe tbody tr th:only-of-type {\n",
       "        vertical-align: middle;\n",
       "    }\n",
       "\n",
       "    .dataframe tbody tr th {\n",
       "        vertical-align: top;\n",
       "    }\n",
       "\n",
       "    .dataframe thead th {\n",
       "        text-align: right;\n",
       "    }\n",
       "</style>\n",
       "<table border=\"1\" class=\"dataframe\">\n",
       "  <thead>\n",
       "    <tr style=\"text-align: right;\">\n",
       "      <th></th>\n",
       "      <th>twitts</th>\n",
       "      <th>class</th>\n",
       "      <th>Words_Count</th>\n",
       "      <th>Chars_Count</th>\n",
       "      <th>stop_words-len</th>\n",
       "      <th>hashtags_count</th>\n",
       "      <th>mentions_count</th>\n",
       "      <th>numeris_count</th>\n",
       "      <th>upper_count</th>\n",
       "      <th>emails</th>\n",
       "      <th>emails_count</th>\n",
       "      <th>Url_flag</th>\n",
       "    </tr>\n",
       "  </thead>\n",
       "  <tbody>\n",
       "    <tr>\n",
       "      <th>0</th>\n",
       "      <td>tweet</td>\n",
       "      <td>class</td>\n",
       "      <td>1</td>\n",
       "      <td>5</td>\n",
       "      <td>0</td>\n",
       "      <td>0</td>\n",
       "      <td>0</td>\n",
       "      <td>0</td>\n",
       "      <td>0</td>\n",
       "      <td>[]</td>\n",
       "      <td>0</td>\n",
       "      <td>0</td>\n",
       "    </tr>\n",
       "    <tr>\n",
       "      <th>1</th>\n",
       "      <td>rt mayasolovely as a woman you should not com...</td>\n",
       "      <td>2</td>\n",
       "      <td>25</td>\n",
       "      <td>140</td>\n",
       "      <td>12</td>\n",
       "      <td>0</td>\n",
       "      <td>1</td>\n",
       "      <td>0</td>\n",
       "      <td>1</td>\n",
       "      <td>[]</td>\n",
       "      <td>0</td>\n",
       "      <td>0</td>\n",
       "    </tr>\n",
       "    <tr>\n",
       "      <th>2</th>\n",
       "      <td>rt mleew17 boy dats coldtyga dwn bad for cuff...</td>\n",
       "      <td>1</td>\n",
       "      <td>16</td>\n",
       "      <td>85</td>\n",
       "      <td>3</td>\n",
       "      <td>0</td>\n",
       "      <td>1</td>\n",
       "      <td>0</td>\n",
       "      <td>1</td>\n",
       "      <td>[]</td>\n",
       "      <td>0</td>\n",
       "      <td>0</td>\n",
       "    </tr>\n",
       "    <tr>\n",
       "      <th>3</th>\n",
       "      <td>rt urkindofbrand dawg rt 80sbaby4life you eve...</td>\n",
       "      <td>1</td>\n",
       "      <td>21</td>\n",
       "      <td>120</td>\n",
       "      <td>7</td>\n",
       "      <td>0</td>\n",
       "      <td>2</td>\n",
       "      <td>0</td>\n",
       "      <td>2</td>\n",
       "      <td>[]</td>\n",
       "      <td>0</td>\n",
       "      <td>0</td>\n",
       "    </tr>\n",
       "    <tr>\n",
       "      <th>4</th>\n",
       "      <td>rt cganderson vivabased she look like a tranny</td>\n",
       "      <td>1</td>\n",
       "      <td>9</td>\n",
       "      <td>62</td>\n",
       "      <td>2</td>\n",
       "      <td>0</td>\n",
       "      <td>2</td>\n",
       "      <td>0</td>\n",
       "      <td>1</td>\n",
       "      <td>[]</td>\n",
       "      <td>0</td>\n",
       "      <td>0</td>\n",
       "    </tr>\n",
       "  </tbody>\n",
       "</table>\n",
       "</div>"
      ],
      "text/plain": [
       "                                              twitts  class  Words_Count  \\\n",
       "0                                              tweet  class            1   \n",
       "1   rt mayasolovely as a woman you should not com...      2           25   \n",
       "2   rt mleew17 boy dats coldtyga dwn bad for cuff...      1           16   \n",
       "3   rt urkindofbrand dawg rt 80sbaby4life you eve...      1           21   \n",
       "4     rt cganderson vivabased she look like a tranny      1            9   \n",
       "\n",
       "   Chars_Count  stop_words-len  hashtags_count  mentions_count  numeris_count  \\\n",
       "0            5               0               0               0              0   \n",
       "1          140              12               0               1              0   \n",
       "2           85               3               0               1              0   \n",
       "3          120               7               0               2              0   \n",
       "4           62               2               0               2              0   \n",
       "\n",
       "   upper_count emails  emails_count  Url_flag  \n",
       "0            0     []             0         0  \n",
       "1            1     []             0         0  \n",
       "2            1     []             0         0  \n",
       "3            2     []             0         0  \n",
       "4            1     []             0         0  "
      ]
     },
     "execution_count": 58,
     "metadata": {},
     "output_type": "execute_result"
    }
   ],
   "source": [
    "df.head()"
   ]
  },
  {
   "cell_type": "code",
   "execution_count": 59,
   "id": "a35acd9d",
   "metadata": {},
   "outputs": [],
   "source": [
    "###Removing extra spaces"
   ]
  },
  {
   "cell_type": "code",
   "execution_count": 60,
   "id": "7d167bcb",
   "metadata": {},
   "outputs": [],
   "source": [
    "x='   Thanks   a lot   Sir   for offering us the    project '"
   ]
  },
  {
   "cell_type": "code",
   "execution_count": 61,
   "id": "dc04045b",
   "metadata": {},
   "outputs": [
    {
     "data": {
      "text/plain": [
       "'Thanks a lot Sir for offering us the project'"
      ]
     },
     "execution_count": 61,
     "metadata": {},
     "output_type": "execute_result"
    }
   ],
   "source": [
    "\" \".join(x.split())"
   ]
  },
  {
   "cell_type": "code",
   "execution_count": 62,
   "id": "12865f5c",
   "metadata": {},
   "outputs": [],
   "source": [
    "df['twitts']=df['twitts'].apply(lambda x:\" \".join(x.split()) )"
   ]
  },
  {
   "cell_type": "code",
   "execution_count": 63,
   "id": "bde63ee5",
   "metadata": {},
   "outputs": [
    {
     "data": {
      "text/html": [
       "<div>\n",
       "<style scoped>\n",
       "    .dataframe tbody tr th:only-of-type {\n",
       "        vertical-align: middle;\n",
       "    }\n",
       "\n",
       "    .dataframe tbody tr th {\n",
       "        vertical-align: top;\n",
       "    }\n",
       "\n",
       "    .dataframe thead th {\n",
       "        text-align: right;\n",
       "    }\n",
       "</style>\n",
       "<table border=\"1\" class=\"dataframe\">\n",
       "  <thead>\n",
       "    <tr style=\"text-align: right;\">\n",
       "      <th></th>\n",
       "      <th>twitts</th>\n",
       "      <th>class</th>\n",
       "      <th>Words_Count</th>\n",
       "      <th>Chars_Count</th>\n",
       "      <th>stop_words-len</th>\n",
       "      <th>hashtags_count</th>\n",
       "      <th>mentions_count</th>\n",
       "      <th>numeris_count</th>\n",
       "      <th>upper_count</th>\n",
       "      <th>emails</th>\n",
       "      <th>emails_count</th>\n",
       "      <th>Url_flag</th>\n",
       "    </tr>\n",
       "  </thead>\n",
       "  <tbody>\n",
       "    <tr>\n",
       "      <th>0</th>\n",
       "      <td>tweet</td>\n",
       "      <td>class</td>\n",
       "      <td>1</td>\n",
       "      <td>5</td>\n",
       "      <td>0</td>\n",
       "      <td>0</td>\n",
       "      <td>0</td>\n",
       "      <td>0</td>\n",
       "      <td>0</td>\n",
       "      <td>[]</td>\n",
       "      <td>0</td>\n",
       "      <td>0</td>\n",
       "    </tr>\n",
       "    <tr>\n",
       "      <th>1</th>\n",
       "      <td>rt mayasolovely as a woman you should not comp...</td>\n",
       "      <td>2</td>\n",
       "      <td>25</td>\n",
       "      <td>140</td>\n",
       "      <td>12</td>\n",
       "      <td>0</td>\n",
       "      <td>1</td>\n",
       "      <td>0</td>\n",
       "      <td>1</td>\n",
       "      <td>[]</td>\n",
       "      <td>0</td>\n",
       "      <td>0</td>\n",
       "    </tr>\n",
       "    <tr>\n",
       "      <th>2</th>\n",
       "      <td>rt mleew17 boy dats coldtyga dwn bad for cuffi...</td>\n",
       "      <td>1</td>\n",
       "      <td>16</td>\n",
       "      <td>85</td>\n",
       "      <td>3</td>\n",
       "      <td>0</td>\n",
       "      <td>1</td>\n",
       "      <td>0</td>\n",
       "      <td>1</td>\n",
       "      <td>[]</td>\n",
       "      <td>0</td>\n",
       "      <td>0</td>\n",
       "    </tr>\n",
       "    <tr>\n",
       "      <th>3</th>\n",
       "      <td>rt urkindofbrand dawg rt 80sbaby4life you ever...</td>\n",
       "      <td>1</td>\n",
       "      <td>21</td>\n",
       "      <td>120</td>\n",
       "      <td>7</td>\n",
       "      <td>0</td>\n",
       "      <td>2</td>\n",
       "      <td>0</td>\n",
       "      <td>2</td>\n",
       "      <td>[]</td>\n",
       "      <td>0</td>\n",
       "      <td>0</td>\n",
       "    </tr>\n",
       "    <tr>\n",
       "      <th>4</th>\n",
       "      <td>rt cganderson vivabased she look like a tranny</td>\n",
       "      <td>1</td>\n",
       "      <td>9</td>\n",
       "      <td>62</td>\n",
       "      <td>2</td>\n",
       "      <td>0</td>\n",
       "      <td>2</td>\n",
       "      <td>0</td>\n",
       "      <td>1</td>\n",
       "      <td>[]</td>\n",
       "      <td>0</td>\n",
       "      <td>0</td>\n",
       "    </tr>\n",
       "  </tbody>\n",
       "</table>\n",
       "</div>"
      ],
      "text/plain": [
       "                                              twitts  class  Words_Count  \\\n",
       "0                                              tweet  class            1   \n",
       "1  rt mayasolovely as a woman you should not comp...      2           25   \n",
       "2  rt mleew17 boy dats coldtyga dwn bad for cuffi...      1           16   \n",
       "3  rt urkindofbrand dawg rt 80sbaby4life you ever...      1           21   \n",
       "4     rt cganderson vivabased she look like a tranny      1            9   \n",
       "\n",
       "   Chars_Count  stop_words-len  hashtags_count  mentions_count  numeris_count  \\\n",
       "0            5               0               0               0              0   \n",
       "1          140              12               0               1              0   \n",
       "2           85               3               0               1              0   \n",
       "3          120               7               0               2              0   \n",
       "4           62               2               0               2              0   \n",
       "\n",
       "   upper_count emails  emails_count  Url_flag  \n",
       "0            0     []             0         0  \n",
       "1            1     []             0         0  \n",
       "2            1     []             0         0  \n",
       "3            2     []             0         0  \n",
       "4            1     []             0         0  "
      ]
     },
     "execution_count": 63,
     "metadata": {},
     "output_type": "execute_result"
    }
   ],
   "source": [
    "df.head()"
   ]
  },
  {
   "cell_type": "code",
   "execution_count": 64,
   "id": "16d1bb75",
   "metadata": {},
   "outputs": [],
   "source": [
    "###Removing HTML tags"
   ]
  },
  {
   "cell_type": "code",
   "execution_count": 65,
   "id": "474b3e7c",
   "metadata": {},
   "outputs": [],
   "source": [
    "from bs4 import BeautifulSoup"
   ]
  },
  {
   "cell_type": "code",
   "execution_count": 66,
   "id": "2d2acdbc",
   "metadata": {},
   "outputs": [],
   "source": [
    "x='<html><h2>Thanks a lot<h2><html>'"
   ]
  },
  {
   "cell_type": "code",
   "execution_count": 67,
   "id": "7e53a685",
   "metadata": {},
   "outputs": [
    {
     "data": {
      "text/plain": [
       "'Thanks a lot'"
      ]
     },
     "execution_count": 67,
     "metadata": {},
     "output_type": "execute_result"
    }
   ],
   "source": [
    "BeautifulSoup(x, 'lxml').get_text()"
   ]
  },
  {
   "cell_type": "code",
   "execution_count": 68,
   "id": "5fbbb3a8",
   "metadata": {},
   "outputs": [
    {
     "name": "stdout",
     "output_type": "stream",
     "text": [
      "Wall time: 4.35 s\n"
     ]
    }
   ],
   "source": [
    "%%time\n",
    "df['twitts']=df['twitts'].apply(lambda x: BeautifulSoup(x,'lxml').get_text() )"
   ]
  },
  {
   "cell_type": "code",
   "execution_count": 69,
   "id": "d1c9b19e",
   "metadata": {},
   "outputs": [],
   "source": [
    "###Removing Accented character\n",
    "### The code will covert it to normal sentence"
   ]
  },
  {
   "cell_type": "code",
   "execution_count": 70,
   "id": "470f6030",
   "metadata": {},
   "outputs": [],
   "source": [
    "import unicodedata"
   ]
  },
  {
   "cell_type": "code",
   "execution_count": 71,
   "id": "3b2b508c",
   "metadata": {},
   "outputs": [],
   "source": [
    "x='àòèåñì'"
   ]
  },
  {
   "cell_type": "code",
   "execution_count": 72,
   "id": "a2fc7ac2",
   "metadata": {},
   "outputs": [],
   "source": [
    "def remove_accented_chars(x):\n",
    "    x= unicodedata.normalize('NFKD',x).encode('ascii', 'ignore').decode('utf-8','ignore')\n",
    "    return x"
   ]
  },
  {
   "cell_type": "code",
   "execution_count": 73,
   "id": "d67f6799",
   "metadata": {},
   "outputs": [
    {
     "data": {
      "text/plain": [
       "'aoeani'"
      ]
     },
     "execution_count": 73,
     "metadata": {},
     "output_type": "execute_result"
    }
   ],
   "source": [
    "remove_accented_chars(x)"
   ]
  },
  {
   "cell_type": "code",
   "execution_count": 74,
   "id": "c2b82cac",
   "metadata": {},
   "outputs": [
    {
     "data": {
      "text/html": [
       "<div>\n",
       "<style scoped>\n",
       "    .dataframe tbody tr th:only-of-type {\n",
       "        vertical-align: middle;\n",
       "    }\n",
       "\n",
       "    .dataframe tbody tr th {\n",
       "        vertical-align: top;\n",
       "    }\n",
       "\n",
       "    .dataframe thead th {\n",
       "        text-align: right;\n",
       "    }\n",
       "</style>\n",
       "<table border=\"1\" class=\"dataframe\">\n",
       "  <thead>\n",
       "    <tr style=\"text-align: right;\">\n",
       "      <th></th>\n",
       "      <th>twitts</th>\n",
       "      <th>class</th>\n",
       "      <th>Words_Count</th>\n",
       "      <th>Chars_Count</th>\n",
       "      <th>stop_words-len</th>\n",
       "      <th>hashtags_count</th>\n",
       "      <th>mentions_count</th>\n",
       "      <th>numeris_count</th>\n",
       "      <th>upper_count</th>\n",
       "      <th>emails</th>\n",
       "      <th>emails_count</th>\n",
       "      <th>Url_flag</th>\n",
       "    </tr>\n",
       "  </thead>\n",
       "  <tbody>\n",
       "    <tr>\n",
       "      <th>0</th>\n",
       "      <td>tweet</td>\n",
       "      <td>class</td>\n",
       "      <td>1</td>\n",
       "      <td>5</td>\n",
       "      <td>0</td>\n",
       "      <td>0</td>\n",
       "      <td>0</td>\n",
       "      <td>0</td>\n",
       "      <td>0</td>\n",
       "      <td>[]</td>\n",
       "      <td>0</td>\n",
       "      <td>0</td>\n",
       "    </tr>\n",
       "    <tr>\n",
       "      <th>1</th>\n",
       "      <td>rt mayasolovely as a woman you should not comp...</td>\n",
       "      <td>2</td>\n",
       "      <td>25</td>\n",
       "      <td>140</td>\n",
       "      <td>12</td>\n",
       "      <td>0</td>\n",
       "      <td>1</td>\n",
       "      <td>0</td>\n",
       "      <td>1</td>\n",
       "      <td>[]</td>\n",
       "      <td>0</td>\n",
       "      <td>0</td>\n",
       "    </tr>\n",
       "    <tr>\n",
       "      <th>2</th>\n",
       "      <td>rt mleew17 boy dats coldtyga dwn bad for cuffi...</td>\n",
       "      <td>1</td>\n",
       "      <td>16</td>\n",
       "      <td>85</td>\n",
       "      <td>3</td>\n",
       "      <td>0</td>\n",
       "      <td>1</td>\n",
       "      <td>0</td>\n",
       "      <td>1</td>\n",
       "      <td>[]</td>\n",
       "      <td>0</td>\n",
       "      <td>0</td>\n",
       "    </tr>\n",
       "    <tr>\n",
       "      <th>3</th>\n",
       "      <td>rt urkindofbrand dawg rt 80sbaby4life you ever...</td>\n",
       "      <td>1</td>\n",
       "      <td>21</td>\n",
       "      <td>120</td>\n",
       "      <td>7</td>\n",
       "      <td>0</td>\n",
       "      <td>2</td>\n",
       "      <td>0</td>\n",
       "      <td>2</td>\n",
       "      <td>[]</td>\n",
       "      <td>0</td>\n",
       "      <td>0</td>\n",
       "    </tr>\n",
       "    <tr>\n",
       "      <th>4</th>\n",
       "      <td>rt cganderson vivabased she look like a tranny</td>\n",
       "      <td>1</td>\n",
       "      <td>9</td>\n",
       "      <td>62</td>\n",
       "      <td>2</td>\n",
       "      <td>0</td>\n",
       "      <td>2</td>\n",
       "      <td>0</td>\n",
       "      <td>1</td>\n",
       "      <td>[]</td>\n",
       "      <td>0</td>\n",
       "      <td>0</td>\n",
       "    </tr>\n",
       "  </tbody>\n",
       "</table>\n",
       "</div>"
      ],
      "text/plain": [
       "                                              twitts  class  Words_Count  \\\n",
       "0                                              tweet  class            1   \n",
       "1  rt mayasolovely as a woman you should not comp...      2           25   \n",
       "2  rt mleew17 boy dats coldtyga dwn bad for cuffi...      1           16   \n",
       "3  rt urkindofbrand dawg rt 80sbaby4life you ever...      1           21   \n",
       "4     rt cganderson vivabased she look like a tranny      1            9   \n",
       "\n",
       "   Chars_Count  stop_words-len  hashtags_count  mentions_count  numeris_count  \\\n",
       "0            5               0               0               0              0   \n",
       "1          140              12               0               1              0   \n",
       "2           85               3               0               1              0   \n",
       "3          120               7               0               2              0   \n",
       "4           62               2               0               2              0   \n",
       "\n",
       "   upper_count emails  emails_count  Url_flag  \n",
       "0            0     []             0         0  \n",
       "1            1     []             0         0  \n",
       "2            1     []             0         0  \n",
       "3            2     []             0         0  \n",
       "4            1     []             0         0  "
      ]
     },
     "execution_count": 74,
     "metadata": {},
     "output_type": "execute_result"
    }
   ],
   "source": [
    "df.head()"
   ]
  },
  {
   "cell_type": "code",
   "execution_count": 75,
   "id": "8ad0e148",
   "metadata": {},
   "outputs": [],
   "source": [
    "### SpaCy and NLP\n",
    "### Removing Stop Words"
   ]
  },
  {
   "cell_type": "code",
   "execution_count": 76,
   "id": "096a94f2",
   "metadata": {},
   "outputs": [],
   "source": [
    "import spacy"
   ]
  },
  {
   "cell_type": "code",
   "execution_count": 77,
   "id": "a4153512",
   "metadata": {},
   "outputs": [],
   "source": [
    "x='this the way of removing stop words an the this what'"
   ]
  },
  {
   "cell_type": "code",
   "execution_count": 78,
   "id": "fd8520f3",
   "metadata": {},
   "outputs": [
    {
     "data": {
      "text/plain": [
       "'way removing stop words'"
      ]
     },
     "execution_count": 78,
     "metadata": {},
     "output_type": "execute_result"
    }
   ],
   "source": [
    "\" \".join([t for t in x.split() if t not in STOP_WORDS])"
   ]
  },
  {
   "cell_type": "code",
   "execution_count": 79,
   "id": "a33d6868",
   "metadata": {},
   "outputs": [],
   "source": [
    "df['twitts']=df['twitts'].apply(lambda x: \" \".join([t for t in x.split() if t not in STOP_WORDS]) )"
   ]
  },
  {
   "cell_type": "code",
   "execution_count": 80,
   "id": "88f27b8a",
   "metadata": {},
   "outputs": [
    {
     "data": {
      "text/html": [
       "<div>\n",
       "<style scoped>\n",
       "    .dataframe tbody tr th:only-of-type {\n",
       "        vertical-align: middle;\n",
       "    }\n",
       "\n",
       "    .dataframe tbody tr th {\n",
       "        vertical-align: top;\n",
       "    }\n",
       "\n",
       "    .dataframe thead th {\n",
       "        text-align: right;\n",
       "    }\n",
       "</style>\n",
       "<table border=\"1\" class=\"dataframe\">\n",
       "  <thead>\n",
       "    <tr style=\"text-align: right;\">\n",
       "      <th></th>\n",
       "      <th>twitts</th>\n",
       "      <th>class</th>\n",
       "      <th>Words_Count</th>\n",
       "      <th>Chars_Count</th>\n",
       "      <th>stop_words-len</th>\n",
       "      <th>hashtags_count</th>\n",
       "      <th>mentions_count</th>\n",
       "      <th>numeris_count</th>\n",
       "      <th>upper_count</th>\n",
       "      <th>emails</th>\n",
       "      <th>emails_count</th>\n",
       "      <th>Url_flag</th>\n",
       "    </tr>\n",
       "  </thead>\n",
       "  <tbody>\n",
       "    <tr>\n",
       "      <th>0</th>\n",
       "      <td>tweet</td>\n",
       "      <td>class</td>\n",
       "      <td>1</td>\n",
       "      <td>5</td>\n",
       "      <td>0</td>\n",
       "      <td>0</td>\n",
       "      <td>0</td>\n",
       "      <td>0</td>\n",
       "      <td>0</td>\n",
       "      <td>[]</td>\n",
       "      <td>0</td>\n",
       "      <td>0</td>\n",
       "    </tr>\n",
       "    <tr>\n",
       "      <th>1</th>\n",
       "      <td>rt mayasolovely woman complain cleaning house ...</td>\n",
       "      <td>2</td>\n",
       "      <td>25</td>\n",
       "      <td>140</td>\n",
       "      <td>12</td>\n",
       "      <td>0</td>\n",
       "      <td>1</td>\n",
       "      <td>0</td>\n",
       "      <td>1</td>\n",
       "      <td>[]</td>\n",
       "      <td>0</td>\n",
       "      <td>0</td>\n",
       "    </tr>\n",
       "    <tr>\n",
       "      <th>2</th>\n",
       "      <td>rt mleew17 boy dats coldtyga dwn bad cuffin da...</td>\n",
       "      <td>1</td>\n",
       "      <td>16</td>\n",
       "      <td>85</td>\n",
       "      <td>3</td>\n",
       "      <td>0</td>\n",
       "      <td>1</td>\n",
       "      <td>0</td>\n",
       "      <td>1</td>\n",
       "      <td>[]</td>\n",
       "      <td>0</td>\n",
       "      <td>0</td>\n",
       "    </tr>\n",
       "    <tr>\n",
       "      <th>3</th>\n",
       "      <td>rt urkindofbrand dawg rt 80sbaby4life fuck bit...</td>\n",
       "      <td>1</td>\n",
       "      <td>21</td>\n",
       "      <td>120</td>\n",
       "      <td>7</td>\n",
       "      <td>0</td>\n",
       "      <td>2</td>\n",
       "      <td>0</td>\n",
       "      <td>2</td>\n",
       "      <td>[]</td>\n",
       "      <td>0</td>\n",
       "      <td>0</td>\n",
       "    </tr>\n",
       "    <tr>\n",
       "      <th>4</th>\n",
       "      <td>rt cganderson vivabased look like tranny</td>\n",
       "      <td>1</td>\n",
       "      <td>9</td>\n",
       "      <td>62</td>\n",
       "      <td>2</td>\n",
       "      <td>0</td>\n",
       "      <td>2</td>\n",
       "      <td>0</td>\n",
       "      <td>1</td>\n",
       "      <td>[]</td>\n",
       "      <td>0</td>\n",
       "      <td>0</td>\n",
       "    </tr>\n",
       "  </tbody>\n",
       "</table>\n",
       "</div>"
      ],
      "text/plain": [
       "                                              twitts  class  Words_Count  \\\n",
       "0                                              tweet  class            1   \n",
       "1  rt mayasolovely woman complain cleaning house ...      2           25   \n",
       "2  rt mleew17 boy dats coldtyga dwn bad cuffin da...      1           16   \n",
       "3  rt urkindofbrand dawg rt 80sbaby4life fuck bit...      1           21   \n",
       "4           rt cganderson vivabased look like tranny      1            9   \n",
       "\n",
       "   Chars_Count  stop_words-len  hashtags_count  mentions_count  numeris_count  \\\n",
       "0            5               0               0               0              0   \n",
       "1          140              12               0               1              0   \n",
       "2           85               3               0               1              0   \n",
       "3          120               7               0               2              0   \n",
       "4           62               2               0               2              0   \n",
       "\n",
       "   upper_count emails  emails_count  Url_flag  \n",
       "0            0     []             0         0  \n",
       "1            1     []             0         0  \n",
       "2            1     []             0         0  \n",
       "3            2     []             0         0  \n",
       "4            1     []             0         0  "
      ]
     },
     "execution_count": 80,
     "metadata": {},
     "output_type": "execute_result"
    }
   ],
   "source": [
    "df.head()"
   ]
  },
  {
   "cell_type": "code",
   "execution_count": 81,
   "id": "2ea3c233",
   "metadata": {},
   "outputs": [],
   "source": [
    "###Converting a word in base or root form"
   ]
  },
  {
   "cell_type": "code",
   "execution_count": 82,
   "id": "a8556ec4",
   "metadata": {},
   "outputs": [
    {
     "data": {
      "text/plain": [
       "False"
      ]
     },
     "execution_count": 82,
     "metadata": {},
     "output_type": "execute_result"
    }
   ],
   "source": [
    "spacy.prefer_gpu()"
   ]
  },
  {
   "cell_type": "code",
   "execution_count": 83,
   "id": "de42c9fb",
   "metadata": {},
   "outputs": [],
   "source": [
    "nlp = spacy.load('en_core_web_sm')"
   ]
  },
  {
   "cell_type": "code",
   "execution_count": 84,
   "id": "fbd3b2ff",
   "metadata": {},
   "outputs": [],
   "source": [
    "x = 'kenichan dived times ball managed save 50 rest'"
   ]
  },
  {
   "cell_type": "code",
   "execution_count": 85,
   "id": "ccf2a227",
   "metadata": {},
   "outputs": [],
   "source": [
    "def make_to_base(x):\n",
    "    x_list =[]\n",
    "    doc = nlp(x)\n",
    "    \n",
    "    for token in doc:\n",
    "        lemma = str(token.lemma_)\n",
    "        if lemma == '-PRON-' or lemma == 'be':\n",
    "            lemma = token.text\n",
    "            x_list.append(lemma)\n",
    "    print(\" \".join(x_list))"
   ]
  },
  {
   "cell_type": "code",
   "execution_count": 86,
   "id": "b788e3fe",
   "metadata": {},
   "outputs": [
    {
     "name": "stdout",
     "output_type": "stream",
     "text": [
      "\n"
     ]
    }
   ],
   "source": [
    "make_to_base(x)"
   ]
  },
  {
   "cell_type": "code",
   "execution_count": 87,
   "id": "814e945d",
   "metadata": {},
   "outputs": [],
   "source": [
    "###Common words removing as not important\n",
    "### we will combine them both and convert them into a single sentence"
   ]
  },
  {
   "cell_type": "code",
   "execution_count": 88,
   "id": "9f7089c7",
   "metadata": {},
   "outputs": [
    {
     "data": {
      "text/plain": [
       "0                                                tweet\n",
       "1    rt mayasolovely woman complain cleaning house ...\n",
       "2    rt mleew17 boy dats coldtyga dwn bad cuffin da...\n",
       "3    rt urkindofbrand dawg rt 80sbaby4life fuck bit...\n",
       "4             rt cganderson vivabased look like tranny\n",
       "Name: twitts, dtype: object"
      ]
     },
     "execution_count": 88,
     "metadata": {},
     "output_type": "execute_result"
    }
   ],
   "source": [
    "df.head()['twitts']"
   ]
  },
  {
   "cell_type": "code",
   "execution_count": 89,
   "id": "4f22d114",
   "metadata": {},
   "outputs": [
    {
     "data": {
      "text/plain": [
       "'tweet rt mayasolovely woman complain cleaning house amp man trash rt mleew17 boy dats coldtyga dwn bad cuffin dat hoe 1st place rt urkindofbrand dawg rt 80sbaby4life fuck bitch start cry confused shit rt cganderson vivabased look like tranny'"
      ]
     },
     "execution_count": 89,
     "metadata": {},
     "output_type": "execute_result"
    }
   ],
   "source": [
    "' '.join(df.head()['twitts'])"
   ]
  },
  {
   "cell_type": "code",
   "execution_count": 90,
   "id": "a5c29e42",
   "metadata": {},
   "outputs": [],
   "source": [
    "text= ' '.join(df['twitts'])"
   ]
  },
  {
   "cell_type": "code",
   "execution_count": 91,
   "id": "e190a76b",
   "metadata": {},
   "outputs": [],
   "source": [
    "text =text.split()"
   ]
  },
  {
   "cell_type": "code",
   "execution_count": 92,
   "id": "c7c8a462",
   "metadata": {},
   "outputs": [],
   "source": [
    "freq_comm = pd.Series(text).value_counts()"
   ]
  },
  {
   "cell_type": "code",
   "execution_count": 93,
   "id": "53de3251",
   "metadata": {},
   "outputs": [],
   "source": [
    "f20=freq_comm[:20]"
   ]
  },
  {
   "cell_type": "code",
   "execution_count": 94,
   "id": "3500b56d",
   "metadata": {},
   "outputs": [
    {
     "data": {
      "text/plain": [
       "bitch      8074\n",
       "rt         7576\n",
       "bitches    3032\n",
       "like       2748\n",
       "hoes       2316\n",
       "pussy      2057\n",
       "im         2056\n",
       "hoe        1856\n",
       "got        1600\n",
       "ass        1560\n",
       "fuck       1399\n",
       "u          1270\n",
       "shit       1255\n",
       "nigga      1185\n",
       "trash      1120\n",
       "lol        1031\n",
       "want        926\n",
       "amp         834\n",
       "know        805\n",
       "niggas      774\n",
       "dtype: int64"
      ]
     },
     "execution_count": 94,
     "metadata": {},
     "output_type": "execute_result"
    }
   ],
   "source": [
    "f20"
   ]
  },
  {
   "cell_type": "code",
   "execution_count": 95,
   "id": "c900e207",
   "metadata": {},
   "outputs": [],
   "source": [
    "### Now we want to remove this most occuring words f20\n",
    "### menas we put all other value in twitts except these 20 value"
   ]
  },
  {
   "cell_type": "code",
   "execution_count": 96,
   "id": "8567eb27",
   "metadata": {},
   "outputs": [],
   "source": [
    "df['twitts']=df['twitts'].apply(lambda x: \" \".join([t for t in x.split() if t not in f20]) )"
   ]
  },
  {
   "cell_type": "code",
   "execution_count": null,
   "id": "153f5e1f",
   "metadata": {},
   "outputs": [],
   "source": []
  },
  {
   "cell_type": "code",
   "execution_count": 97,
   "id": "270832a8",
   "metadata": {},
   "outputs": [],
   "source": [
    "###Rare Words removing"
   ]
  },
  {
   "cell_type": "code",
   "execution_count": 98,
   "id": "c373a4d1",
   "metadata": {},
   "outputs": [],
   "source": [
    "rare20= freq_comm[-20:]"
   ]
  },
  {
   "cell_type": "code",
   "execution_count": 99,
   "id": "175ba950",
   "metadata": {},
   "outputs": [
    {
     "data": {
      "text/plain": [
       "doody                                         1\n",
       "uti                                           1\n",
       "tacos128514                                   1\n",
       "kiddbravo615                                  1\n",
       "towie                                         1\n",
       "128072tiny                                    1\n",
       "mlbis                                         1\n",
       "128540128520128123127867128138127881127882    1\n",
       "moneymakersent                                1\n",
       "6pm                                           1\n",
       "halfcrazy610                                  1\n",
       "deeeeaaaadd                                   1\n",
       "128519                                        1\n",
       "wesideconnect                                 1\n",
       "ingredients                                   1\n",
       "urbandictionary                               1\n",
       "8220villagebae                                1\n",
       "zariavonmars                                  1\n",
       "vntxnius                                      1\n",
       "hidevon                                       1\n",
       "dtype: int64"
      ]
     },
     "execution_count": 99,
     "metadata": {},
     "output_type": "execute_result"
    }
   ],
   "source": [
    "rare20"
   ]
  },
  {
   "cell_type": "code",
   "execution_count": 100,
   "id": "b3a95b0f",
   "metadata": {},
   "outputs": [],
   "source": [
    "###Words occours atmost one time"
   ]
  },
  {
   "cell_type": "code",
   "execution_count": 101,
   "id": "c0247b99",
   "metadata": {},
   "outputs": [],
   "source": [
    "rare= freq_comm[freq_comm.values == 1]"
   ]
  },
  {
   "cell_type": "code",
   "execution_count": 102,
   "id": "be922171",
   "metadata": {},
   "outputs": [
    {
     "data": {
      "text/plain": [
       "brennanculp          1\n",
       "grounded             1\n",
       "preparations         1\n",
       "8220irritated8221    1\n",
       "ppli                 1\n",
       "                    ..\n",
       "urbandictionary      1\n",
       "8220villagebae       1\n",
       "zariavonmars         1\n",
       "vntxnius             1\n",
       "hidevon              1\n",
       "Length: 25685, dtype: int64"
      ]
     },
     "execution_count": 102,
     "metadata": {},
     "output_type": "execute_result"
    }
   ],
   "source": [
    "rare"
   ]
  },
  {
   "cell_type": "code",
   "execution_count": 103,
   "id": "2b87e726",
   "metadata": {},
   "outputs": [],
   "source": [
    "df['twitts']=df['twitts'].apply(lambda x: \" \".join([t for t in x.split() if t not in rare20]) )"
   ]
  },
  {
   "cell_type": "code",
   "execution_count": 104,
   "id": "9c6fb66a",
   "metadata": {},
   "outputs": [
    {
     "data": {
      "text/html": [
       "<div>\n",
       "<style scoped>\n",
       "    .dataframe tbody tr th:only-of-type {\n",
       "        vertical-align: middle;\n",
       "    }\n",
       "\n",
       "    .dataframe tbody tr th {\n",
       "        vertical-align: top;\n",
       "    }\n",
       "\n",
       "    .dataframe thead th {\n",
       "        text-align: right;\n",
       "    }\n",
       "</style>\n",
       "<table border=\"1\" class=\"dataframe\">\n",
       "  <thead>\n",
       "    <tr style=\"text-align: right;\">\n",
       "      <th></th>\n",
       "      <th>twitts</th>\n",
       "      <th>class</th>\n",
       "      <th>Words_Count</th>\n",
       "      <th>Chars_Count</th>\n",
       "      <th>stop_words-len</th>\n",
       "      <th>hashtags_count</th>\n",
       "      <th>mentions_count</th>\n",
       "      <th>numeris_count</th>\n",
       "      <th>upper_count</th>\n",
       "      <th>emails</th>\n",
       "      <th>emails_count</th>\n",
       "      <th>Url_flag</th>\n",
       "    </tr>\n",
       "  </thead>\n",
       "  <tbody>\n",
       "    <tr>\n",
       "      <th>0</th>\n",
       "      <td>tweet</td>\n",
       "      <td>class</td>\n",
       "      <td>1</td>\n",
       "      <td>5</td>\n",
       "      <td>0</td>\n",
       "      <td>0</td>\n",
       "      <td>0</td>\n",
       "      <td>0</td>\n",
       "      <td>0</td>\n",
       "      <td>[]</td>\n",
       "      <td>0</td>\n",
       "      <td>0</td>\n",
       "    </tr>\n",
       "    <tr>\n",
       "      <th>1</th>\n",
       "      <td>mayasolovely woman complain cleaning house man</td>\n",
       "      <td>2</td>\n",
       "      <td>25</td>\n",
       "      <td>140</td>\n",
       "      <td>12</td>\n",
       "      <td>0</td>\n",
       "      <td>1</td>\n",
       "      <td>0</td>\n",
       "      <td>1</td>\n",
       "      <td>[]</td>\n",
       "      <td>0</td>\n",
       "      <td>0</td>\n",
       "    </tr>\n",
       "    <tr>\n",
       "      <th>2</th>\n",
       "      <td>mleew17 boy dats coldtyga dwn bad cuffin dat 1...</td>\n",
       "      <td>1</td>\n",
       "      <td>16</td>\n",
       "      <td>85</td>\n",
       "      <td>3</td>\n",
       "      <td>0</td>\n",
       "      <td>1</td>\n",
       "      <td>0</td>\n",
       "      <td>1</td>\n",
       "      <td>[]</td>\n",
       "      <td>0</td>\n",
       "      <td>0</td>\n",
       "    </tr>\n",
       "    <tr>\n",
       "      <th>3</th>\n",
       "      <td>urkindofbrand dawg 80sbaby4life start cry conf...</td>\n",
       "      <td>1</td>\n",
       "      <td>21</td>\n",
       "      <td>120</td>\n",
       "      <td>7</td>\n",
       "      <td>0</td>\n",
       "      <td>2</td>\n",
       "      <td>0</td>\n",
       "      <td>2</td>\n",
       "      <td>[]</td>\n",
       "      <td>0</td>\n",
       "      <td>0</td>\n",
       "    </tr>\n",
       "    <tr>\n",
       "      <th>4</th>\n",
       "      <td>cganderson vivabased look tranny</td>\n",
       "      <td>1</td>\n",
       "      <td>9</td>\n",
       "      <td>62</td>\n",
       "      <td>2</td>\n",
       "      <td>0</td>\n",
       "      <td>2</td>\n",
       "      <td>0</td>\n",
       "      <td>1</td>\n",
       "      <td>[]</td>\n",
       "      <td>0</td>\n",
       "      <td>0</td>\n",
       "    </tr>\n",
       "  </tbody>\n",
       "</table>\n",
       "</div>"
      ],
      "text/plain": [
       "                                              twitts  class  Words_Count  \\\n",
       "0                                              tweet  class            1   \n",
       "1     mayasolovely woman complain cleaning house man      2           25   \n",
       "2  mleew17 boy dats coldtyga dwn bad cuffin dat 1...      1           16   \n",
       "3  urkindofbrand dawg 80sbaby4life start cry conf...      1           21   \n",
       "4                   cganderson vivabased look tranny      1            9   \n",
       "\n",
       "   Chars_Count  stop_words-len  hashtags_count  mentions_count  numeris_count  \\\n",
       "0            5               0               0               0              0   \n",
       "1          140              12               0               1              0   \n",
       "2           85               3               0               1              0   \n",
       "3          120               7               0               2              0   \n",
       "4           62               2               0               2              0   \n",
       "\n",
       "   upper_count emails  emails_count  Url_flag  \n",
       "0            0     []             0         0  \n",
       "1            1     []             0         0  \n",
       "2            1     []             0         0  \n",
       "3            2     []             0         0  \n",
       "4            1     []             0         0  "
      ]
     },
     "execution_count": 104,
     "metadata": {},
     "output_type": "execute_result"
    }
   ],
   "source": [
    "df.head()"
   ]
  },
  {
   "cell_type": "code",
   "execution_count": 105,
   "id": "83ef1227",
   "metadata": {},
   "outputs": [],
   "source": [
    "###Word Cloud Visualization"
   ]
  },
  {
   "cell_type": "code",
   "execution_count": 106,
   "id": "01430d10",
   "metadata": {},
   "outputs": [],
   "source": [
    "from wordcloud import WordCloud\n",
    "import matplotlib.pyplot as plt\n",
    "%matplotlib inline"
   ]
  },
  {
   "cell_type": "code",
   "execution_count": 107,
   "id": "3c12d17f",
   "metadata": {},
   "outputs": [],
   "source": [
    "x= ' '.join(text[:20000])"
   ]
  },
  {
   "cell_type": "code",
   "execution_count": 108,
   "id": "900f5f00",
   "metadata": {},
   "outputs": [
    {
     "data": {
      "text/plain": [
       "202239"
      ]
     },
     "execution_count": 108,
     "metadata": {},
     "output_type": "execute_result"
    }
   ],
   "source": [
    "len(text)"
   ]
  },
  {
   "cell_type": "code",
   "execution_count": 109,
   "id": "c36ea377",
   "metadata": {},
   "outputs": [],
   "source": [
    "###Creating Word cloud \n",
    "### In wordcloud function we can see which parameter we can pass that we need by using tab  "
   ]
  },
  {
   "cell_type": "code",
   "execution_count": 110,
   "id": "3fb95dc4",
   "metadata": {},
   "outputs": [
    {
     "data": {
      "image/png": "[encoded data removed]",
      "text/plain": [
       "<Figure size 432x288 with 1 Axes>"
      ]
     },
     "metadata": {
      "needs_background": "light"
     },
     "output_type": "display_data"
    }
   ],
   "source": [
    "wc= WordCloud(width = 1000, height = 600).generate(x)\n",
    "plt.imshow(wc)\n",
    "plt.axis('off')\n",
    "plt.show()"
   ]
  },
  {
   "cell_type": "code",
   "execution_count": 111,
   "id": "f99e1c0d",
   "metadata": {},
   "outputs": [],
   "source": [
    "### This is our word cloud(Upper one)"
   ]
  },
  {
   "cell_type": "code",
   "execution_count": 112,
   "id": "f0498046",
   "metadata": {},
   "outputs": [],
   "source": [
    "### Now Spelling correction but we nedd some library(correction is not always 100% accurate)"
   ]
  },
  {
   "cell_type": "code",
   "execution_count": 113,
   "id": "f4cc74fc",
   "metadata": {},
   "outputs": [],
   "source": [
    "from textblob import TextBlob"
   ]
  },
  {
   "cell_type": "code",
   "execution_count": 114,
   "id": "f74145fe",
   "metadata": {},
   "outputs": [],
   "source": [
    "x= 'tanks for waching my fuun vigeo'"
   ]
  },
  {
   "cell_type": "code",
   "execution_count": 115,
   "id": "0409a3bb",
   "metadata": {},
   "outputs": [],
   "source": [
    "x= TextBlob(x).correct()"
   ]
  },
  {
   "cell_type": "code",
   "execution_count": 116,
   "id": "fd1addd1",
   "metadata": {},
   "outputs": [
    {
     "data": {
      "text/plain": [
       "TextBlob(\"tanks for watching my fun video\")"
      ]
     },
     "execution_count": 116,
     "metadata": {},
     "output_type": "execute_result"
    }
   ],
   "source": [
    "x "
   ]
  },
  {
   "cell_type": "code",
   "execution_count": 117,
   "id": "f117e486",
   "metadata": {},
   "outputs": [],
   "source": [
    "### As I said every thing can not be correct so tanks is not correct but all other are correct"
   ]
  },
  {
   "cell_type": "code",
   "execution_count": 118,
   "id": "93566ebc",
   "metadata": {},
   "outputs": [],
   "source": [
    "###Tokenization\n",
    "### Tokenization can be done by textBlob and Spacy both.\n",
    "### See the difference"
   ]
  },
  {
   "cell_type": "code",
   "execution_count": 119,
   "id": "b4a939e4",
   "metadata": {},
   "outputs": [],
   "source": [
    "x='thanks4watching this game. play again please'"
   ]
  },
  {
   "cell_type": "code",
   "execution_count": 120,
   "id": "6b4b719c",
   "metadata": {},
   "outputs": [
    {
     "data": {
      "text/plain": [
       "WordList(['thanks4watching', 'this', 'game', 'play', 'again', 'please'])"
      ]
     },
     "execution_count": 120,
     "metadata": {},
     "output_type": "execute_result"
    }
   ],
   "source": [
    "TextBlob(x).words ### look hier fullstop is not count"
   ]
  },
  {
   "cell_type": "code",
   "execution_count": 121,
   "id": "4f86292b",
   "metadata": {},
   "outputs": [
    {
     "name": "stdout",
     "output_type": "stream",
     "text": [
      "thanks4watching\n",
      "this\n",
      "game\n",
      ".\n",
      "play\n",
      "again\n",
      "please\n"
     ]
    }
   ],
   "source": [
    "doc = nlp(x)\n",
    "for token in doc:   ### look hier fullstop is also a token\n",
    "    print(token)"
   ]
  },
  {
   "cell_type": "code",
   "execution_count": 122,
   "id": "72e42ef1",
   "metadata": {},
   "outputs": [],
   "source": [
    "### Lemmatization: It converts a word into a base form\n",
    "### Hier we use Textblob"
   ]
  },
  {
   "cell_type": "code",
   "execution_count": 123,
   "id": "9055454e",
   "metadata": {},
   "outputs": [],
   "source": [
    "x= ' runs run running ran'"
   ]
  },
  {
   "cell_type": "code",
   "execution_count": 124,
   "id": "fb0d2b0d",
   "metadata": {},
   "outputs": [],
   "source": [
    "from textblob import Word"
   ]
  },
  {
   "cell_type": "code",
   "execution_count": 125,
   "id": "fb8e0f9c",
   "metadata": {},
   "outputs": [
    {
     "name": "stdout",
     "output_type": "stream",
     "text": [
      "run\n",
      "run\n",
      "running\n",
      "ran\n"
     ]
    }
   ],
   "source": [
    "for token in x.split():\n",
    "    print(Word(token).lemmatize())### using textblob\n"
   ]
  },
  {
   "cell_type": "code",
   "execution_count": 126,
   "id": "c26d0bad",
   "metadata": {},
   "outputs": [
    {
     "name": "stdout",
     "output_type": "stream",
     "text": [
      " \n",
      "run\n",
      "run\n",
      "run\n",
      "run\n"
     ]
    }
   ],
   "source": [
    "doc = nlp(x)\n",
    "for token in doc:\n",
    "    print(token.lemma_) ### using spacy and gives better result then Textblob"
   ]
  },
  {
   "cell_type": "code",
   "execution_count": 127,
   "id": "b78b7659",
   "metadata": {},
   "outputs": [],
   "source": [
    "### Detecting Entities using NER of SpaCy"
   ]
  },
  {
   "cell_type": "code",
   "execution_count": 128,
   "id": "8e8f786d",
   "metadata": {},
   "outputs": [],
   "source": [
    "x= \"Breaking News: Sabrin, the leader of the project is looking to sign the deal for next 2 weeks \""
   ]
  },
  {
   "cell_type": "code",
   "execution_count": 129,
   "id": "95eab306",
   "metadata": {},
   "outputs": [
    {
     "name": "stdout",
     "output_type": "stream",
     "text": [
      "Sabrin - PERSON - People, including fictional\n",
      "next 2 weeks - DATE - Absolute or relative dates or periods\n"
     ]
    }
   ],
   "source": [
    "doc = nlp(x)\n",
    "for ent in doc.ents:\n",
    "    print(ent.text + ' - ' + ent.label_ + ' - ' + str(spacy.explain(ent.label_)))\n",
    "    ### ent.text= token, ent.label_= what type of entity every word hier"
   ]
  },
  {
   "cell_type": "code",
   "execution_count": 130,
   "id": "186db3ff",
   "metadata": {},
   "outputs": [],
   "source": [
    "### we can also do it \n",
    "from spacy import displacy"
   ]
  },
  {
   "cell_type": "code",
   "execution_count": 131,
   "id": "a82ef2e4",
   "metadata": {},
   "outputs": [
    {
     "data": {
      "text/html": [
       "<span class=\"tex2jax_ignore\"><div class=\"entities\" style=\"line-height: 2.5; direction: ltr\">Breaking News: \n",
       "<mark class=\"entity\" style=\"background: #aa9cfc; padding: 0.45em 0.6em; margin: 0 0.25em; line-height: 1; border-radius: 0.35em;\">\n",
       "    Sabrin\n",
       "    <span style=\"font-size: 0.8em; font-weight: bold; line-height: 1; border-radius: 0.35em; vertical-align: middle; margin-left: 0.5rem\">PERSON</span>\n",
       "</mark>\n",
       ", the leader of the project is looking to sign the deal for \n",
       "<mark class=\"entity\" style=\"background: #bfe1d9; padding: 0.45em 0.6em; margin: 0 0.25em; line-height: 1; border-radius: 0.35em;\">\n",
       "    next 2 weeks\n",
       "    <span style=\"font-size: 0.8em; font-weight: bold; line-height: 1; border-radius: 0.35em; vertical-align: middle; margin-left: 0.5rem\">DATE</span>\n",
       "</mark>\n",
       " </div></span>"
      ],
      "text/plain": [
       "<IPython.core.display.HTML object>"
      ]
     },
     "metadata": {},
     "output_type": "display_data"
    }
   ],
   "source": [
    "displacy.render(doc,style = 'ent')"
   ]
  },
  {
   "cell_type": "code",
   "execution_count": 132,
   "id": "c64f8221",
   "metadata": {},
   "outputs": [],
   "source": [
    "### detectin Noun"
   ]
  },
  {
   "cell_type": "code",
   "execution_count": 133,
   "id": "f8df8665",
   "metadata": {},
   "outputs": [],
   "source": [
    "x= \"Breaking News: Sabrin, the leader of the project is looking to sign the deal for next 2 weeks \""
   ]
  },
  {
   "cell_type": "code",
   "execution_count": 134,
   "id": "0ab4ee35",
   "metadata": {},
   "outputs": [
    {
     "name": "stdout",
     "output_type": "stream",
     "text": [
      "the leader\n",
      "the project\n",
      "the deal\n",
      "next 2 weeks\n"
     ]
    }
   ],
   "source": [
    "for noun in doc.noun_chunks:\n",
    "    print(noun)### lets see how many nouns are there"
   ]
  },
  {
   "cell_type": "code",
   "execution_count": 135,
   "id": "7490eb16",
   "metadata": {},
   "outputs": [],
   "source": [
    "### Translation and language detection"
   ]
  },
  {
   "cell_type": "code",
   "execution_count": 136,
   "id": "c5c3259d",
   "metadata": {},
   "outputs": [],
   "source": [
    "x= \"Breaking News: Sabrin, the leader of the project is looking to sign the deal for next 2 weeks \""
   ]
  },
  {
   "cell_type": "code",
   "execution_count": 137,
   "id": "e96d4509",
   "metadata": {},
   "outputs": [],
   "source": [
    "tb= TextBlob(x)"
   ]
  },
  {
   "cell_type": "code",
   "execution_count": 138,
   "id": "cd6e8f79",
   "metadata": {},
   "outputs": [
    {
     "data": {
      "text/plain": [
       "'en'"
      ]
     },
     "execution_count": 138,
     "metadata": {},
     "output_type": "execute_result"
    }
   ],
   "source": [
    "tb.detect_language()"
   ]
  },
  {
   "cell_type": "code",
   "execution_count": 139,
   "id": "6214a639",
   "metadata": {},
   "outputs": [],
   "source": [
    "### Translating in another language"
   ]
  },
  {
   "cell_type": "code",
   "execution_count": 143,
   "id": "156262f9",
   "metadata": {},
   "outputs": [
    {
     "data": {
      "text/plain": [
       "TextBlob(\"Breaking News: Sabrin, die Leiterin des Projekts, möchte den Vertrag für die nächsten 2 Wochen unterzeichnen\")"
      ]
     },
     "execution_count": 143,
     "metadata": {},
     "output_type": "execute_result"
    }
   ],
   "source": [
    "tb.translate(to='de')###https://www.loc.gov/standards/iso639-2/php/code_list.php"
   ]
  },
  {
   "cell_type": "code",
   "execution_count": null,
   "id": "ec6661dc",
   "metadata": {},
   "outputs": [],
   "source": []
  }
 ],
 "metadata": {
  "kernelspec": {
   "display_name": "Python 3",
   "language": "python",
   "name": "python3"
  },
  "language_info": {
   "codemirror_mode": {
    "name": "ipython",
    "version": 3
   },
   "file_extension": ".py",
   "mimetype": "text/x-python",
   "name": "python",
   "nbconvert_exporter": "python",
   "pygments_lexer": "ipython3",
   "version": "3.8.8"
  }
 },
 "nbformat": 4,
 "nbformat_minor": 5
}
